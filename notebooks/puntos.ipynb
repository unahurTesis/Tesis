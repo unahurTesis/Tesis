{
 "cells": [
  {
   "metadata": {
    "ExecuteTime": {
     "end_time": "2024-08-01T02:05:35.900529Z",
     "start_time": "2024-08-01T02:05:35.897579Z"
    }
   },
   "cell_type": "code",
   "source": [
    "import cv2\n",
    "import pandas as pd\n",
    "import os\n",
    "import numpy as np"
   ],
   "id": "bbf03824efbf8a24",
   "outputs": [],
   "execution_count": 371
  },
  {
   "metadata": {
    "ExecuteTime": {
     "end_time": "2024-08-01T02:05:35.930965Z",
     "start_time": "2024-08-01T02:05:35.927844Z"
    }
   },
   "cell_type": "code",
   "source": [
    "def calcular_centro_grilla(x_, y_, pixeles_por_mm, num_filas):\n",
    "    size_celda = int(pixeles_por_mm)\n",
    "    centro_x = x_\n",
    "    centro_y = y_ - (num_filas * size_celda)\n",
    "    return centro_x, centro_y, size_celda"
   ],
   "id": "6001ff456594464b",
   "outputs": [],
   "execution_count": 372
  },
  {
   "metadata": {
    "ExecuteTime": {
     "end_time": "2024-08-01T02:05:35.944422Z",
     "start_time": "2024-08-01T02:05:35.939923Z"
    }
   },
   "cell_type": "code",
   "source": [
    "def dibujar_grilla(img, centro_x, centro_y, y_inferior, tamanio_celda, num_columnas, num_filas):\n",
    "    for i in range(num_columnas + 1):\n",
    "        x = centro_x - (num_columnas // 2) * tamanio_celda + i * tamanio_celda\n",
    "        cv2.line(img, (x, y_inferior), (x, centro_y), (0, 255, 0), 1)\n",
    "\n",
    "    for i in range(num_filas + 1):\n",
    "        y = y_inferior - i * tamanio_celda\n",
    "        cv2.line(img, (centro_x - (num_columnas // 2) * tamanio_celda, y),\n",
    "                 (centro_x + (num_columnas // 2) * tamanio_celda, y), (0, 255, 0), 1)"
   ],
   "id": "7414980ecd00d0c0",
   "outputs": [],
   "execution_count": 373
  },
  {
   "metadata": {
    "ExecuteTime": {
     "end_time": "2024-08-01T02:05:35.956535Z",
     "start_time": "2024-08-01T02:05:35.953736Z"
    }
   },
   "cell_type": "code",
   "source": [
    "def obtener_posicion_grilla(punto_x, punto_y, centro_x, centro_y, tamanio_celda, num_columnas, num_filas):\n",
    "    # Calcular la coordenada x del borde izquierdo de la cuadrícula\n",
    "    borde_izquierdo_x = centro_x - (num_columnas // 2) * tamanio_celda\n",
    "    # Calcular la coordenada y del borde inferior de la cuadrícula\n",
    "    borde_inferior_y = centro_y + num_filas * tamanio_celda\n",
    "\n",
    "    # Calcular la distancia horizontal desde el borde izquierdo hasta el punto seleccionado\n",
    "    distancia_x = punto_x - borde_izquierdo_x\n",
    "    # Calcular la distancia vertical desde el borde inferior hasta el punto seleccionado\n",
    "    distancia_y = borde_inferior_y - punto_y\n",
    "\n",
    "    # Calcular el índice de la columna (grilla_x) y de la fila (grilla_y)\n",
    "    grilla_x = distancia_x // tamanio_celda\n",
    "    grilla_y = distancia_y // tamanio_celda\n",
    "\n",
    "    return int(grilla_x), int(grilla_y)"
   ],
   "id": "9d7d5b777ce02be3",
   "outputs": [],
   "execution_count": 374
  },
  {
   "metadata": {
    "ExecuteTime": {
     "end_time": "2024-08-01T02:05:35.962183Z",
     "start_time": "2024-08-01T02:05:35.958135Z"
    }
   },
   "cell_type": "code",
   "source": [
    "def crear_matriz(numero_de_columnas, numero_de_filas, columna_marcada, fila_marcada):\n",
    "\n",
    "    # Crear una matriz de ceros con el tamaño especificado\n",
    "    matriz = np.zeros((numero_de_filas, numero_de_columnas), dtype=int)\n",
    "\n",
    "    # Verificar que los índices de la cuadrícula estén dentro de los límites\n",
    "    if indices_validos(columna_marcada, fila_marcada, numero_de_columnas, numero_de_filas):\n",
    "        # Marcar la posición correspondiente con un 1\n",
    "        matriz[fila_marcada, columna_marcada] = 1\n",
    "\n",
    "    return matriz\n",
    "\n",
    "def indices_validos(columna, fila, numero_de_columnas, numero_de_filas):\n",
    "    \"\"\"\n",
    "    Verifica si los índices de la cuadrícula están dentro de los límites permitidos.\n",
    "    \"\"\"\n",
    "    columna_valida = 0 <= columna < numero_de_columnas\n",
    "    fila_valida = 0 <= fila < numero_de_filas\n",
    "    return columna_valida and fila_valida"
   ],
   "id": "5dd6e66ea2c60328",
   "outputs": [],
   "execution_count": 375
  },
  {
   "metadata": {
    "ExecuteTime": {
     "end_time": "2024-08-01T02:05:35.967167Z",
     "start_time": "2024-08-01T02:05:35.963959Z"
    }
   },
   "cell_type": "code",
   "source": [
    "def dibujar_puntos(imagen, punto_referencia, punto_marcado):\n",
    "    cv2.circle(imagen, punto_referencia, 5, (0, 0, 255), -1)  # Punto de referencia en rojo\n",
    "    cv2.circle(imagen, punto_marcado, 5, (255, 0, 0), -1)\n"
   ],
   "id": "28e533173b236999",
   "outputs": [],
   "execution_count": 376
  },
  {
   "metadata": {
    "ExecuteTime": {
     "end_time": "2024-08-01T02:05:36.015686Z",
     "start_time": "2024-08-01T02:05:36.010099Z"
    }
   },
   "cell_type": "code",
   "source": [
    "def procesar_imagen_individual2(ruta_imagen, punto_referencia, punto_marcado, pixeles_por_3mm, directorio_salida):\n",
    "    if not os.path.exists(ruta_imagen):\n",
    "        print(f\"El archivo de imagen no existe: {ruta_imagen}\")\n",
    "        return\n",
    "\n",
    "    imagen = cv2.imread(ruta_imagen)\n",
    "    if imagen is None:\n",
    "        print(f\"No se pudo cargar la imagen: {ruta_imagen}\")\n",
    "        return\n",
    "\n",
    "    pixeles_por_mm = pixeles_por_3mm \n",
    "    num_columnas, num_filas = 8, 6\n",
    "\n",
    "    dibujar_puntos(imagen, punto_referencia, punto_marcado)\n",
    "\n",
    "    centro_x, centro_y, tamanio_celda = calcular_centro_grilla(punto_referencia[0], punto_referencia[1], pixeles_por_mm, num_filas)\n",
    "    dibujar_grilla(imagen, centro_x, centro_y, punto_referencia[1], tamanio_celda, num_columnas, num_filas)\n",
    "\n",
    "    grilla_x, grilla_y = obtener_posicion_grilla(punto_marcado[0], punto_marcado[1], centro_x, centro_y, tamanio_celda, num_columnas, num_filas)\n",
    "    matriz_grilla = crear_matriz(num_columnas, num_filas, grilla_x, grilla_y)\n",
    "\n",
    "    #print(f\"El punto marcado está en la cuadrícula: ({grilla_x}, {grilla_y})\")\n",
    "    #print(\"Matriz de la grilla:\")\n",
    "    #print(matriz_grilla)\n",
    "\n",
    "    ruta_salida = os.path.join(directorio_salida, os.path.basename(ruta_imagen))\n",
    "    cv2.imwrite(ruta_salida, imagen)\n",
    "    print(f\"Imagen guardada en: {ruta_salida}\")\n",
    "\n",
    "    return matriz_grilla"
   ],
   "id": "5c6453f061bfdf2f",
   "outputs": [],
   "execution_count": 377
  },
  {
   "metadata": {
    "ExecuteTime": {
     "end_time": "2024-08-01T02:05:36.020652Z",
     "start_time": "2024-08-01T02:05:36.017054Z"
    }
   },
   "cell_type": "code",
   "source": [
    "def procesar_conjunto_datos2(ruta_conjunto_datos, directorio_salida):\n",
    "    conjunto_datos = pd.read_csv(ruta_conjunto_datos)\n",
    "    os.makedirs(directorio_salida, exist_ok=True)\n",
    "\n",
    "    for indice, fila in conjunto_datos.iterrows():\n",
    "        nombre_imagen = fila[\"imagen\"]\n",
    "        ruta_imagen = os.path.join('..', 'imagenes', 'seleccionadas', 'medio', nombre_imagen)\n",
    "\n",
    "        punto_referencia = (int(fila['punto_referencia_x']), int(fila['punto_referencia_y']))\n",
    "        mm_por_pixel = fila['mm_por_pixel']\n",
    "\n",
    "        # Aquí definimos manualmente el punto marcado para cada imagen\n",
    "        punto_marcado = (punto_referencia[0] + 50, punto_referencia[1] - 50)  # Ejemplo: 50 píxeles a la derecha y 50 arriba del punto de referencia\n",
    "\n",
    "        matriz_grilla = procesar_imagen_individual2(ruta_imagen, punto_referencia, punto_marcado, mm_por_pixel, directorio_salida)\n",
    "\n",
    "        # Aquí puedes hacer algo con matriz_grilla si lo necesitas, como guardarlo en un archivo\n",
    "\n",
    "    print(\"\\nProcesamiento completado.\")\n",
    "    print(f\"Directorio de salida: {os.path.abspath(directorio_salida)}\")"
   ],
   "id": "c5b010601d0c63b7",
   "outputs": [],
   "execution_count": 378
  },
  {
   "metadata": {
    "ExecuteTime": {
     "end_time": "2024-08-01T02:05:36.030676Z",
     "start_time": "2024-08-01T02:05:36.024770Z"
    }
   },
   "cell_type": "code",
   "source": [
    "def procesar_imagen_individual(ruta_imagen, punto_referencia, puntos_marcados, pixeles_por_3mm, directorio_salida):\n",
    "    if not os.path.exists(ruta_imagen):\n",
    "        print(f\"El archivo de imagen no existe: {ruta_imagen}\")\n",
    "        return\n",
    "\n",
    "    imagen = cv2.imread(ruta_imagen)\n",
    "    if imagen is None:\n",
    "        print(f\"No se pudo cargar la imagen: {ruta_imagen}\")\n",
    "        return\n",
    "\n",
    "    pixeles_por_mm = pixeles_por_3mm\n",
    "    num_columnas, num_filas = 8, 5\n",
    "\n",
    "    dibujar_puntos(imagen, punto_referencia, punto_referencia)  # Dibujar el punto de referencia\n",
    "\n",
    "    centro_x, centro_y, tamanio_celda = calcular_centro_grilla(punto_referencia[0], punto_referencia[1], pixeles_por_mm, num_filas)\n",
    "    dibujar_grilla(imagen, centro_x, centro_y, punto_referencia[1], tamanio_celda, num_columnas, num_filas)\n",
    "\n",
    "    matriz_grilla = crear_matriz(num_columnas, num_filas, -1, -1)  # Inicializar la matriz sin puntos marcados\n",
    "\n",
    "    for punto_marcado in puntos_marcados:\n",
    "        dibujar_puntos(imagen, punto_referencia, punto_marcado)\n",
    "        grilla_x, grilla_y = obtener_posicion_grilla(punto_marcado[0], punto_marcado[1], centro_x, centro_y, tamanio_celda, num_columnas, num_filas)\n",
    "        matriz_grilla[grilla_y][grilla_x] = 1  # Marcar el punto en la matriz\n",
    "\n",
    "    # Asegurarse de que directorio_salida es un directorio\n",
    "    if not os.path.exists(directorio_salida):\n",
    "        os.makedirs(directorio_salida)\n",
    "\n",
    "    ruta_salida = os.path.join(directorio_salida, os.path.basename(ruta_imagen))\n",
    "    cv2.imwrite(ruta_salida, imagen)\n",
    "    print(f\"Imagen guardada en: {ruta_salida}\")\n",
    "\n",
    "    return matriz_grilla"
   ],
   "id": "af92f549b6fab9be",
   "outputs": [],
   "execution_count": 379
  },
  {
   "metadata": {
    "ExecuteTime": {
     "end_time": "2024-08-01T02:05:36.035830Z",
     "start_time": "2024-08-01T02:05:36.032Z"
    }
   },
   "cell_type": "code",
   "source": [
    "def procesar_conjunto_datos(ruta_conjunto_datos, directorio_salida):\n",
    "    conjunto_datos = pd.read_csv(ruta_conjunto_datos)\n",
    "    os.makedirs(directorio_salida, exist_ok=True)\n",
    "\n",
    "    for indice, fila in conjunto_datos.iterrows():\n",
    "        nombre_imagen = fila[\"imagen\"]\n",
    "        ruta_imagen = os.path.join('..', 'imagenes', 'seleccionadas', 'medio', nombre_imagen)\n",
    "\n",
    "        punto_referencia = (int(fila['punto_referencia_x']), int(fila['punto_referencia_y']))\n",
    "        mm_por_pixel = fila['mm_por_pixel']\n",
    "\n",
    "        if not os.path.exists(ruta_imagen):\n",
    "            print(f\"ERROR: El archivo de imagen no existe: {ruta_imagen}\")\n",
    "            print(\"Comprueba que la ruta sea correcta y que el archivo esté presente.\")\n",
    "            continue\n",
    "\n",
    "        puntos_marcados = []\n",
    "        for i in range(1, 16):\n",
    "            coord_x = f'coordenada_x_punto {i}'\n",
    "            coord_y = f'coordenada_y_punto {i}'\n",
    "\n",
    "            if coord_x in fila and coord_y in fila:\n",
    "                punto_marcado = (int(fila[coord_x]), int(fila[coord_y]))\n",
    "                puntos_marcados.append(punto_marcado)\n",
    "            else:\n",
    "                print(f\"No se encontraron coordenadas para el punto {i}\")\n",
    "\n",
    "        if puntos_marcados:\n",
    "            matriz_grilla = procesar_imagen_individual(ruta_imagen, punto_referencia, puntos_marcados, mm_por_pixel, directorio_salida)\n",
    "            # Aquí puedes hacer algo con matriz_grilla si lo necesitas, como guardarlo en un archivo\n",
    "\n",
    "    print(\"\\nProcesamiento completado.\")\n",
    "    print(f\"Directorio de salida: {os.path.abspath(directorio_salida)}\")\n",
    "\n"
   ],
   "id": "c5516b2b8409164b",
   "outputs": [],
   "execution_count": 380
  },
  {
   "metadata": {
    "ExecuteTime": {
     "end_time": "2024-08-01T02:05:36.088468Z",
     "start_time": "2024-08-01T02:05:36.047067Z"
    }
   },
   "cell_type": "code",
   "source": [
    "if __name__ == \"__main__\":\n",
    "    ruta_conjunto_datos = '../datos/df.csv'\n",
    "    directorio_salida = '../imagenes/procesadas/'\n",
    "    procesar_conjunto_datos(ruta_conjunto_datos, directorio_salida)"
   ],
   "id": "5f55aa1bdf2e09d4",
   "outputs": [
    {
     "name": "stdout",
     "output_type": "stream",
     "text": [
      "ERROR: El archivo de imagen no existe: ../imagenes/seleccionadas/medio/Cordon11_Seccion 1 horizontal C11.jpg\n",
      "Comprueba que la ruta sea correcta y que el archivo esté presente.\n",
      "ERROR: El archivo de imagen no existe: ../imagenes/seleccionadas/medio/Cordon12_Seccion 1 horizontal C12.jpg\n",
      "Comprueba que la ruta sea correcta y que el archivo esté presente.\n",
      "ERROR: El archivo de imagen no existe: ../imagenes/seleccionadas/medio/Cordon17_Seccion 1 horizontal C17.jpg\n",
      "Comprueba que la ruta sea correcta y que el archivo esté presente.\n",
      "ERROR: El archivo de imagen no existe: ../imagenes/seleccionadas/medio/Cordon8_Seccion 1 horizontal C8.jpg\n",
      "Comprueba que la ruta sea correcta y que el archivo esté presente.\n",
      "ERROR: El archivo de imagen no existe: ../imagenes/seleccionadas/medio/Cordon3_Seccion 1 horizontal C3.jpg\n",
      "Comprueba que la ruta sea correcta y que el archivo esté presente.\n",
      "ERROR: El archivo de imagen no existe: ../imagenes/seleccionadas/medio/Cordon19_Seccion 1 horizontal C19.jpg\n",
      "Comprueba que la ruta sea correcta y que el archivo esté presente.\n",
      "ERROR: El archivo de imagen no existe: ../imagenes/seleccionadas/medio/Cordon9_Seccion 1 horizontal C9.jpg\n",
      "Comprueba que la ruta sea correcta y que el archivo esté presente.\n",
      "ERROR: El archivo de imagen no existe: ../imagenes/seleccionadas/medio/Cordon6_Seccion 1 horizontal C6.jpg\n",
      "Comprueba que la ruta sea correcta y que el archivo esté presente.\n",
      "ERROR: El archivo de imagen no existe: ../imagenes/seleccionadas/medio/Cordon4_Seccion 1 horizontal C4.jpg\n",
      "Comprueba que la ruta sea correcta y que el archivo esté presente.\n",
      "ERROR: El archivo de imagen no existe: ../imagenes/seleccionadas/medio/Cordon10_Seccion 1 horizontal C10.jpg\n",
      "Comprueba que la ruta sea correcta y que el archivo esté presente.\n",
      "ERROR: El archivo de imagen no existe: ../imagenes/seleccionadas/medio/Cordon5_Seccion 1 horizontal C5.jpg\n",
      "Comprueba que la ruta sea correcta y que el archivo esté presente.\n",
      "ERROR: El archivo de imagen no existe: ../imagenes/seleccionadas/medio/Cordon18_Seccion 2 horizontal C18.jpg\n",
      "Comprueba que la ruta sea correcta y que el archivo esté presente.\n",
      "ERROR: El archivo de imagen no existe: ../imagenes/seleccionadas/medio/Cordon1_Seccion 1 horizontal C1.jpg\n",
      "Comprueba que la ruta sea correcta y que el archivo esté presente.\n",
      "ERROR: El archivo de imagen no existe: ../imagenes/seleccionadas/medio/Cordon13_Seccion 1 horizontal C13.jpg\n",
      "Comprueba que la ruta sea correcta y que el archivo esté presente.\n",
      "ERROR: El archivo de imagen no existe: ../imagenes/seleccionadas/medio/Cordon16_Seccion 1 horizontal C16.jpg\n",
      "Comprueba que la ruta sea correcta y que el archivo esté presente.\n",
      "ERROR: El archivo de imagen no existe: ../imagenes/seleccionadas/medio/Cordon7_Seccion 1 horizontal C7.jpg\n",
      "Comprueba que la ruta sea correcta y que el archivo esté presente.\n",
      "ERROR: El archivo de imagen no existe: ../imagenes/seleccionadas/medio/Cordon2_Seccion 1 horizontal C2.jpg\n",
      "Comprueba que la ruta sea correcta y que el archivo esté presente.\n",
      "ERROR: El archivo de imagen no existe: ../imagenes/seleccionadas/medio/Cordon14_Seccion 1 horizontal C14.jpg\n",
      "Comprueba que la ruta sea correcta y que el archivo esté presente.\n"
     ]
    },
    {
     "ename": "IndexError",
     "evalue": "index -10 is out of bounds for axis 0 with size 6",
     "output_type": "error",
     "traceback": [
      "\u001B[0;31m---------------------------------------------------------------------------\u001B[0m",
      "\u001B[0;31mIndexError\u001B[0m                                Traceback (most recent call last)",
      "Cell \u001B[0;32mIn[381], line 4\u001B[0m\n\u001B[1;32m      2\u001B[0m ruta_conjunto_datos \u001B[38;5;241m=\u001B[39m \u001B[38;5;124m'\u001B[39m\u001B[38;5;124m../datos/df_final.csv\u001B[39m\u001B[38;5;124m'\u001B[39m\n\u001B[1;32m      3\u001B[0m directorio_salida \u001B[38;5;241m=\u001B[39m \u001B[38;5;124m'\u001B[39m\u001B[38;5;124m../imagenes/procesadas/\u001B[39m\u001B[38;5;124m'\u001B[39m\n\u001B[0;32m----> 4\u001B[0m procesar_conjunto_datos(ruta_conjunto_datos, directorio_salida)\n",
      "Cell \u001B[0;32mIn[380], line 29\u001B[0m, in \u001B[0;36mprocesar_conjunto_datos\u001B[0;34m(ruta_conjunto_datos, directorio_salida)\u001B[0m\n\u001B[1;32m     26\u001B[0m             \u001B[38;5;28mprint\u001B[39m(\u001B[38;5;124mf\u001B[39m\u001B[38;5;124m\"\u001B[39m\u001B[38;5;124mNo se encontraron coordenadas para el punto \u001B[39m\u001B[38;5;132;01m{\u001B[39;00mi\u001B[38;5;132;01m}\u001B[39;00m\u001B[38;5;124m\"\u001B[39m)\n\u001B[1;32m     28\u001B[0m     \u001B[38;5;28;01mif\u001B[39;00m puntos_marcados:\n\u001B[0;32m---> 29\u001B[0m         matriz_grilla \u001B[38;5;241m=\u001B[39m procesar_imagen_individual(ruta_imagen, punto_referencia, puntos_marcados, mm_por_pixel, directorio_salida)\n\u001B[1;32m     30\u001B[0m         \u001B[38;5;66;03m# Aquí puedes hacer algo con matriz_grilla si lo necesitas, como guardarlo en un archivo\u001B[39;00m\n\u001B[1;32m     32\u001B[0m \u001B[38;5;28mprint\u001B[39m(\u001B[38;5;124m\"\u001B[39m\u001B[38;5;130;01m\\n\u001B[39;00m\u001B[38;5;124mProcesamiento completado.\u001B[39m\u001B[38;5;124m\"\u001B[39m)\n",
      "Cell \u001B[0;32mIn[379], line 24\u001B[0m, in \u001B[0;36mprocesar_imagen_individual\u001B[0;34m(ruta_imagen, punto_referencia, puntos_marcados, pixeles_por_3mm, directorio_salida)\u001B[0m\n\u001B[1;32m     22\u001B[0m     dibujar_puntos(imagen, punto_referencia, punto_marcado)\n\u001B[1;32m     23\u001B[0m     grilla_x, grilla_y \u001B[38;5;241m=\u001B[39m obtener_posicion_grilla(punto_marcado[\u001B[38;5;241m0\u001B[39m], punto_marcado[\u001B[38;5;241m1\u001B[39m], centro_x, centro_y, tamanio_celda, num_columnas, num_filas)\n\u001B[0;32m---> 24\u001B[0m     matriz_grilla[grilla_y][grilla_x] \u001B[38;5;241m=\u001B[39m \u001B[38;5;241m1\u001B[39m  \u001B[38;5;66;03m# Marcar el punto en la matriz\u001B[39;00m\n\u001B[1;32m     26\u001B[0m \u001B[38;5;66;03m# Asegurarse de que directorio_salida es un directorio\u001B[39;00m\n\u001B[1;32m     27\u001B[0m \u001B[38;5;28;01mif\u001B[39;00m \u001B[38;5;129;01mnot\u001B[39;00m os\u001B[38;5;241m.\u001B[39mpath\u001B[38;5;241m.\u001B[39mexists(directorio_salida):\n",
      "\u001B[0;31mIndexError\u001B[0m: index -10 is out of bounds for axis 0 with size 6"
     ]
    }
   ],
   "execution_count": 381
  }
 ],
 "metadata": {
  "kernelspec": {
   "display_name": "Python 3",
   "language": "python",
   "name": "python3"
  },
  "language_info": {
   "codemirror_mode": {
    "name": "ipython",
    "version": 2
   },
   "file_extension": ".py",
   "mimetype": "text/x-python",
   "name": "python",
   "nbconvert_exporter": "python",
   "pygments_lexer": "ipython2",
   "version": "2.7.6"
  }
 },
 "nbformat": 4,
 "nbformat_minor": 5
}
