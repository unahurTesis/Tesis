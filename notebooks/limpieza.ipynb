{
 "cells": [
  {
   "cell_type": "code",
   "id": "initial_id",
   "metadata": {
    "collapsed": true,
    "ExecuteTime": {
     "end_time": "2024-08-14T14:32:04.076083Z",
     "start_time": "2024-08-14T14:32:03.934687Z"
    }
   },
   "source": [
    "import pandas as pd\n",
    "\n",
    "df = pd.read_csv('../datos/df_final.csv')\n",
    "\n",
    "df.to_excel('../datos/df_final.xlsx', index=False)"
   ],
   "outputs": [],
   "execution_count": 22
  },
  {
   "metadata": {
    "ExecuteTime": {
     "end_time": "2024-08-14T14:32:04.473731Z",
     "start_time": "2024-08-14T14:32:04.465767Z"
    }
   },
   "cell_type": "code",
   "source": [
    "columnas_entrada = ['vel alambre','flujo gas', 'peri voltaje', 'voltaje', 'corriente', 'ubicacion']\n",
    "columna_salida = ['matriz']\n"
   ],
   "id": "dd37c95f14f15d88",
   "outputs": [],
   "execution_count": 23
  },
  {
   "metadata": {
    "ExecuteTime": {
     "end_time": "2024-08-14T14:32:05.165592Z",
     "start_time": "2024-08-14T14:32:05.140898Z"
    }
   },
   "cell_type": "code",
   "source": [
    "# Asumiendo que tienes un DataFrame llamado 'df'\n",
    "print(df['matriz'].dtype)\n",
    "\n",
    "# Para ver el tipo de un elemento específico\n",
    "print(type(df['matriz'].iloc[0]))"
   ],
   "id": "3edbbd195d151158",
   "outputs": [
    {
     "name": "stdout",
     "output_type": "stream",
     "text": [
      "object\n",
      "<class 'str'>\n"
     ]
    }
   ],
   "execution_count": 24
  },
  {
   "metadata": {
    "ExecuteTime": {
     "end_time": "2024-08-14T14:32:06.091611Z",
     "start_time": "2024-08-14T14:32:06.039416Z"
    }
   },
   "cell_type": "code",
   "source": [
    "import pandas as df\n",
    "import ast\n",
    "import numpy as np\n",
    "\n",
    "def string_to_array_list(s):\n",
    "    try:\n",
    "        list_of_lists = ast.literal_eval(s)\n",
    "        return [np.array(sublist) for sublist in list_of_lists]\n",
    "    except Exception as e:\n",
    "        print(f\"Error al procesar: {s}\")\n",
    "        print(f\"Tipo de error: {type(e).__name__}\")\n",
    "        print(f\"Mensaje de error: {str(e)}\")\n",
    "        return None\n",
    "\n",
    "# Aplicar la conversión a la columna 'matriz'\n",
    "df['matriz_array'] = df['matriz'].apply(string_to_array_list)\n",
    "\n",
    "# Verificar el tipo después de la conversión\n",
    "print(\"Tipo de la columna matriz_array:\", df['matriz_array'].dtype)\n",
    "\n",
    "# Mostrar los primeros elementos de la columna original 'matriz'\n",
    "print(\"\\nPrimeros 5 elementos de la columna 'matriz' original:\")\n",
    "print(df['matriz'].head())\n",
    "\n",
    "# Mostrar los primeros elementos de la nueva columna 'matriz_array'\n",
    "print(\"\\nPrimeros 5 elementos de la columna 'matriz_array':\")\n",
    "print(df['matriz_array'].head())\n",
    "\n",
    "# Contar cuántos elementos se convirtieron exitosamente\n",
    "successful_conversions = df['matriz_array'].notna().sum()\n",
    "print(f\"\\nConversiones exitosas: {successful_conversions} de {len(df)}\")\n",
    "\n",
    "# Mostrar un ejemplo de un elemento que no se pudo convertir (si existe)\n",
    "failed_conversion = df[df['matriz_array'].isna()].iloc[0] if df['matriz_array'].isna().any() else None\n",
    "if failed_conversion is not None:\n",
    "    print(\"\\nEjemplo de un elemento que no se pudo convertir:\")\n",
    "    print(failed_conversion['matriz'])"
   ],
   "id": "ccc42bf238a5f410",
   "outputs": [
    {
     "ename": "TypeError",
     "evalue": "'module' object is not subscriptable",
     "output_type": "error",
     "traceback": [
      "\u001B[1;31m---------------------------------------------------------------------------\u001B[0m",
      "\u001B[1;31mTypeError\u001B[0m                                 Traceback (most recent call last)",
      "Cell \u001B[1;32mIn[25], line 16\u001B[0m\n\u001B[0;32m     13\u001B[0m         \u001B[38;5;28;01mreturn\u001B[39;00m \u001B[38;5;28;01mNone\u001B[39;00m\n\u001B[0;32m     15\u001B[0m \u001B[38;5;66;03m# Aplicar la conversión a la columna 'matriz'\u001B[39;00m\n\u001B[1;32m---> 16\u001B[0m df[\u001B[38;5;124m'\u001B[39m\u001B[38;5;124mmatriz_array\u001B[39m\u001B[38;5;124m'\u001B[39m] \u001B[38;5;241m=\u001B[39m \u001B[43mdf\u001B[49m\u001B[43m[\u001B[49m\u001B[38;5;124;43m'\u001B[39;49m\u001B[38;5;124;43mmatriz\u001B[39;49m\u001B[38;5;124;43m'\u001B[39;49m\u001B[43m]\u001B[49m\u001B[38;5;241m.\u001B[39mapply(string_to_array_list)\n\u001B[0;32m     18\u001B[0m \u001B[38;5;66;03m# Verificar el tipo después de la conversión\u001B[39;00m\n\u001B[0;32m     19\u001B[0m \u001B[38;5;28mprint\u001B[39m(\u001B[38;5;124m\"\u001B[39m\u001B[38;5;124mTipo de la columna matriz_array:\u001B[39m\u001B[38;5;124m\"\u001B[39m, df[\u001B[38;5;124m'\u001B[39m\u001B[38;5;124mmatriz_array\u001B[39m\u001B[38;5;124m'\u001B[39m]\u001B[38;5;241m.\u001B[39mdtype)\n",
      "\u001B[1;31mTypeError\u001B[0m: 'module' object is not subscriptable"
     ]
    }
   ],
   "execution_count": 25
  },
  {
   "metadata": {},
   "cell_type": "code",
   "outputs": [],
   "execution_count": null,
   "source": "",
   "id": "bd0144ba72791dae"
  }
 ],
 "metadata": {
  "kernelspec": {
   "display_name": "Python 3",
   "language": "python",
   "name": "python3"
  },
  "language_info": {
   "codemirror_mode": {
    "name": "ipython",
    "version": 2
   },
   "file_extension": ".py",
   "mimetype": "text/x-python",
   "name": "python",
   "nbconvert_exporter": "python",
   "pygments_lexer": "ipython2",
   "version": "2.7.6"
  }
 },
 "nbformat": 4,
 "nbformat_minor": 5
}
