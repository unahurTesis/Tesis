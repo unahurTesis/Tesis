{
 "cells": [
  {
   "metadata": {
    "ExecuteTime": {
     "end_time": "2024-08-21T23:15:58.052744Z",
     "start_time": "2024-08-21T23:15:57.527734Z"
    }
   },
   "cell_type": "code",
   "source": [
    "import pandas as pd\n",
    "import numpy as np"
   ],
   "id": "ca0d01820adce338",
   "outputs": [],
   "execution_count": 1
  },
  {
   "metadata": {},
   "cell_type": "markdown",
   "source": "Funcion para convertir strings a arrays",
   "id": "76e437ff0c7beeba"
  },
  {
   "metadata": {
    "ExecuteTime": {
     "end_time": "2024-08-21T23:15:58.405226Z",
     "start_time": "2024-08-21T23:15:58.389329Z"
    }
   },
   "cell_type": "code",
   "source": [
    "# Función para convertir strings a arrays\n",
    "def string_to_array(s):\n",
    "    if pd.isnull(s) or s == '':\n",
    "        return np.nan   # Si la cadena es nula o vacía, devolver NaN\n",
    "    try:\n",
    "        rows = s.strip('[]').split(']\\n [')\n",
    "        matrix = [[float(num) for num in row.split()] for row in rows]  # Convertir a float cada número en la matriz\n",
    "        return np.array(matrix)\n",
    "    except Exception as e:\n",
    "        print(f\"Error al convertir: {e}\")\n",
    "        return np.nan"
   ],
   "id": "cba68472e7889d6",
   "outputs": [],
   "execution_count": 2
  },
  {
   "metadata": {},
   "cell_type": "markdown",
   "source": "Funcion para encontrar duplicados en el conjunto de datos",
   "id": "dedd867266385b24"
  },
  {
   "metadata": {
    "ExecuteTime": {
     "end_time": "2024-08-21T23:16:01.612700Z",
     "start_time": "2024-08-21T23:16:01.605201Z"
    }
   },
   "cell_type": "code",
   "source": [
    "def encontrar_duplicados_con_diferencias(df, columnas_entrada, columna_salida):\n",
    "    grupos = df.groupby(columnas_entrada)   # Agrupar por columnas de entrada con valores idénticos\n",
    "    duplicados_encontrados = []\n",
    "\n",
    "    # Iterar sobre los grupos y encontrar diferencias en las salidas\n",
    "    for _, grupo in grupos:\n",
    "        if len(grupo) > 1:\n",
    "            salida_base = grupo.iloc[0][columna_salida]\n",
    "            diferencias = [\n",
    "                fila[columna_salida] for _, fila in grupo.iterrows() \n",
    "                if not np.array_equal(fila[columna_salida], salida_base)\n",
    "            ]\n",
    "            if diferencias:\n",
    "                duplicados_encontrados.append((grupo, diferencias))\n",
    "    \n",
    "    return duplicados_encontrados"
   ],
   "id": "5012fdd709d734b3",
   "outputs": [],
   "execution_count": 3
  },
  {
   "metadata": {},
   "cell_type": "markdown",
   "source": "Funcion para mostrar los datos duplicados encontrados",
   "id": "1e26ae2383c9656a"
  },
  {
   "metadata": {
    "ExecuteTime": {
     "end_time": "2024-08-21T23:16:03.510564Z",
     "start_time": "2024-08-21T23:16:03.482274Z"
    }
   },
   "cell_type": "code",
   "source": [
    "def mostrar_duplicados(duplicados, columnas_entrada, columna_salida):\n",
    "    if not duplicados:\n",
    "        print(\"No se encontraron filas con entradas idénticas y salidas diferentes.\")\n",
    "        return\n",
    "\n",
    "    for grupo, diferencias in duplicados:\n",
    "        print(\"\\nEntradas:\")\n",
    "        for col, val in zip(columnas_entrada, grupo.iloc[0][columnas_entrada]):\n",
    "            print(f\"{col}: {val}\")\n",
    "        print(\"\\nSalidas correspondientes:\")\n",
    "        for idx, fila in grupo.iterrows():\n",
    "            print(f\"Fila {idx}: {fila[columna_salida]}\")\n",
    "        print(\"-\" * 50)\n"
   ],
   "id": "44b871ecec7a9c28",
   "outputs": [],
   "execution_count": 4
  },
  {
   "metadata": {},
   "cell_type": "markdown",
   "source": [
    "Funcion para eliminar duplicados, manteniendo solo una ocurrencia\n",
    "\n",
    "Si se encuentran diferencias en las salidas, se mantiene la primera ocurrencia y se eliminan las demás."
   ],
   "id": "f43e227ea0e4e9a1"
  },
  {
   "metadata": {},
   "cell_type": "code",
   "outputs": [
    {
     "name": "stdout",
     "output_type": "stream",
     "text": [
      "No se encontraron filas con entradas idénticas y salidas diferentes.\n",
      "Número de filas después de eliminar duplicados: 54\n"
     ]
    }
   ],
   "execution_count": 6,
   "source": [
    "def eliminar_duplicados(df, columnas_entrada, columna_salida):\n",
    "    duplicados = encontrar_duplicados_con_diferencias(df, columnas_entrada, columna_salida)\n",
    "    if not duplicados:\n",
    "        return df.drop_duplicates(subset=columnas_entrada, keep='first')\n",
    "\n",
    "    indices_a_eliminar = []\n",
    "    for grupo, _ in duplicados:\n",
    "        indices_a_eliminar.extend(grupo.index[1:])\n",
    "    \n",
    "    df_sin_duplicados = df.drop(indices_a_eliminar)\n",
    "    return df_sin_duplicados\n",
    "\n",
    "# Cargar el DataFrame desde el archivo pickle\n",
    "df = pd.read_excel('../datos/final.xlsx')\n",
    "\n",
    "# Definir columnas de entrada y salida\n",
    "columnas_entrada = ['vel alambre', 'flujo gas', 'peri voltaje', 'voltaje',\n",
    "                    'corriente', 'ubicacion']\n",
    "columna_salida = 'matriz'\n",
    "\n",
    "# Mostrar duplicados antes de la limpieza\n",
    "duplicados = encontrar_duplicados_con_diferencias(df, columnas_entrada, columna_salida)\n",
    "mostrar_duplicados(duplicados, columnas_entrada, columna_salida)\n",
    "\n",
    "# Eliminar duplicados del DataFrame\n",
    "df_limpio = eliminar_duplicados(df, columnas_entrada, columna_salida)\n",
    "\n",
    "# Guardar el DataFrame limpio\n",
    "df_limpio.to_pickle('../datos/df_final_limpio.pkl')\n",
    "print(\"Número de filas después de eliminar duplicados:\", len(df_limpio))\n"
   ],
   "id": "e0c682e9b081f74a"
  },
  {
   "metadata": {
    "ExecuteTime": {
     "end_time": "2024-08-21T23:23:32.089910Z",
     "start_time": "2024-08-21T23:23:32.016357Z"
    }
   },
   "cell_type": "code",
   "source": [
    "# Cargar el DataFrame desde el archivo pickle\n",
    "df = pd.read_excel('../datos/final.xlsx')\n",
    "\n",
    "# Convertir la columna 'matriz' a arrays\n",
    "df['matriz'] = df['matriz'].apply(string_to_array)\n",
    "\n",
    "# Definir columnas de entrada y salida\n",
    "columnas_entrada = ['vel alambre', 'flujo gas', 'peri voltaje', 'voltaje',\n",
    "                    'corriente', 'ubicacion']\n",
    "columna_salida = 'matriz'\n",
    "\n",
    "# Mostrar duplicados antes de la limpieza\n",
    "duplicados = encontrar_duplicados_con_diferencias(df, columnas_entrada, columna_salida)\n",
    "mostrar_duplicados(duplicados, columnas_entrada, columna_salida)\n",
    "\n",
    "# Eliminar duplicados del DataFrame\n",
    "df_limpio = eliminar_duplicados(df, columnas_entrada, columna_salida)\n",
    "\n",
    "# Guardar el DataFrame limpio\n",
    "df_limpio.to_pickle('../datos/df_final_limpio.pkl')\n",
    "print(\"Número de filas después de eliminar duplicados:\", len(df_limpio))"
   ],
   "id": "6790f6e7b2414496",
   "outputs": [
    {
     "name": "stdout",
     "output_type": "stream",
     "text": [
      "No se encontraron filas con entradas idénticas y salidas diferentes.\n",
      "Número de filas después de eliminar duplicados: 54\n"
     ]
    }
   ],
   "execution_count": 10
  },
  {
   "metadata": {},
   "cell_type": "code",
   "outputs": [],
   "execution_count": null,
   "source": "",
   "id": "656d4f5d90cf5507"
  }
 ],
 "metadata": {
  "kernelspec": {
   "display_name": "Python 3",
   "language": "python",
   "name": "python3"
  },
  "language_info": {
   "codemirror_mode": {
    "name": "ipython",
    "version": 2
   },
   "file_extension": ".py",
   "mimetype": "text/x-python",
   "name": "python",
   "nbconvert_exporter": "python",
   "pygments_lexer": "ipython2",
   "version": "2.7.6"
  }
 },
 "nbformat": 4,
 "nbformat_minor": 5
}
