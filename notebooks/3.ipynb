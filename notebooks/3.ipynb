{
 "cells": [
  {
   "metadata": {},
   "cell_type": "code",
   "source": [
    "import os\n",
    "import cv2\n",
    "import pandas as pd"
   ],
   "id": "ea198709fd4e3166",
   "outputs": [],
   "execution_count": null
  },
  {
   "metadata": {},
   "cell_type": "code",
   "source": [
    "def dibujar_puntos(imagen, punto_referencia, punto_marcado):\n",
    "    cv2.circle(imagen, punto_referencia, 5, (0, 0, 255), -1)  # Punto de referencia en rojo\n",
    "    cv2.circle(imagen, punto_marcado, 5, (255, 0, 0), -1)  # Punto marcado en azul"
   ],
   "id": "18d2320201a67837",
   "outputs": [],
   "execution_count": null
  },
  {
   "metadata": {},
   "cell_type": "code",
   "source": [
    "def crear_matriz(num_columnas, num_filas):\n",
    "    return [[0 for _ in range(num_columnas)] for _ in range(num_filas)]"
   ],
   "id": "a03e286cc562598f",
   "outputs": [],
   "execution_count": null
  },
  {
   "metadata": {},
   "cell_type": "code",
   "source": [
    "def calcular_centro_grilla(x_ref, y_ref, pixeles_por_mm, num_filas):\n",
    "    centro_x = x_ref\n",
    "    centro_y = y_ref  # Ajustar para que la grilla se dibuje desde el punto de referencia hacia arriba\n",
    "    tamanio_celda = pixeles_por_mm\n",
    "    return centro_x, centro_y, tamanio_celda"
   ],
   "id": "b16230bf447f03c1",
   "outputs": [],
   "execution_count": null
  },
  {
   "metadata": {},
   "cell_type": "code",
   "source": [
    "def dibujar_grilla(imagen, centro_x, centro_y, tamanio_celda, num_columnas, num_filas, matriz_grilla):\n",
    "    for i in range(num_filas + 1):\n",
    "        y = int(centro_y - i * tamanio_celda)\n",
    "        cv2.line(imagen, (int(centro_x - (num_columnas // 2) * tamanio_celda), y), (int(centro_x + (num_columnas // 2) * tamanio_celda), y), (0, 255, 0), 1)\n",
    "    for j in range(num_columnas + 1):\n",
    "        x = int(centro_x - (num_columnas // 2) * tamanio_celda + j * tamanio_celda)\n",
    "        cv2.line(imagen, (x, int(centro_y - num_filas * tamanio_celda)), (x, int(centro_y)), (0, 255, 0), 1)\n",
    "\n",
    "    for y in range(num_filas):\n",
    "        for x in range(num_columnas):\n",
    "            valor = matriz_grilla[y][x]\n",
    "            coord_x = int(centro_x - (num_columnas // 2) * tamanio_celda + x * tamanio_celda + tamanio_celda // 2)\n",
    "            coord_y = int(centro_y - y * tamanio_celda - tamanio_celda // 2)\n",
    "            cv2.putText(imagen, str(valor), (coord_x - 10, coord_y + 10), cv2.FONT_HERSHEY_SIMPLEX, 0.5, (0, 255, 0), 1, cv2.LINE_AA)"
   ],
   "id": "2ee71f9ccf9275c2",
   "outputs": [],
   "execution_count": null
  },
  {
   "metadata": {},
   "cell_type": "code",
   "source": [
    "def obtener_posicion_grilla(x_marcado, y_marcado, centro_x, centro_y, tamanio_celda, num_columnas, num_filas):\n",
    "    grilla_x = int((x_marcado - centro_x + (num_columnas // 2) * tamanio_celda) / tamanio_celda)\n",
    "    grilla_y = int((centro_y - y_marcado) / tamanio_celda)\n",
    "    return grilla_x, grilla_y"
   ],
   "id": "30a2d7151b48921",
   "outputs": [],
   "execution_count": null
  },
  {
   "metadata": {},
   "cell_type": "code",
   "source": [
    "def procesar_imagen_individual(ruta_imagen, punto_referencia, puntos_marcados, pixeles_por_3mm, directorio_salida):\n",
    "    \n",
    "    imagen = cv2.imread(ruta_imagen)\n",
    "    if imagen is None:\n",
    "        print(f\"No se pudo cargar la imagen: {ruta_imagen}\")\n",
    "        return None\n",
    "\n",
    "    pixeles_por_mm = pixeles_por_3mm\n",
    "    num_columnas, num_filas = 8, 6\n",
    "\n",
    "    dibujar_puntos(imagen, punto_referencia, punto_referencia)  # Dibujar el punto de referencia\n",
    "\n",
    "    centro_x, centro_y, tamanio_celda = calcular_centro_grilla(punto_referencia[0], punto_referencia[1], pixeles_por_mm, num_filas)\n",
    "\n",
    "    matriz_grilla = crear_matriz(num_columnas, num_filas)  # Inicializar la matriz sin puntos marcados\n",
    "\n",
    "    for punto_marcado in puntos_marcados:\n",
    "        dibujar_puntos(imagen, punto_referencia, punto_marcado)\n",
    "        grilla_x, grilla_y = obtener_posicion_grilla(punto_marcado[0], punto_marcado[1], centro_x, centro_y, tamanio_celda, num_columnas, num_filas)\n",
    "\n",
    "        # Verificar que los índices están dentro de los límites\n",
    "        if 0 <= grilla_x < num_columnas and 0 <= grilla_y < num_filas:\n",
    "            matriz_grilla[grilla_y][grilla_x] = 1  # Marcar el punto en la matriz\n",
    "        else:\n",
    "            print(f\"Punto fuera de la grilla: {punto_marcado} -> ({grilla_x}, {grilla_y})\")\n",
    "\n",
    "    dibujar_grilla(imagen, centro_x, centro_y, tamanio_celda, num_columnas, num_filas, matriz_grilla)\n",
    "\n",
    "    # Asegurarse de que directorio_salida es un directorio\n",
    "    if not os.path.exists(directorio_salida):\n",
    "        os.makedirs(directorio_salida)\n",
    "\n",
    "    ruta_salida = os.path.join(directorio_salida, os.path.basename(ruta_imagen))\n",
    "    cv2.imwrite(ruta_salida, imagen)\n",
    "    \n",
    "    return matriz_grilla"
   ],
   "id": "6ae16ee2dd4158e4",
   "outputs": [],
   "execution_count": null
  },
  {
   "metadata": {},
   "cell_type": "code",
   "source": [
    "def procesar_conjunto_datos(ruta_conjunto_datos, directorio_salida, ruta_salida_matriz):\n",
    "    conjunto_datos = pd.read_csv(ruta_conjunto_datos)\n",
    "    os.makedirs(directorio_salida, exist_ok=True)\n",
    "\n",
    "    matrices = []\n",
    "\n",
    "    for indice, fila in conjunto_datos.iterrows():\n",
    "        nombre_imagen = fila[\"imagen\"]\n",
    "        ruta_imagen = os.path.join('..', 'imagenes', 'seleccionadas', 'final', nombre_imagen)\n",
    "\n",
    "        punto_referencia = (int(fila['punto_referencia_x']), int(fila['punto_referencia_y']))\n",
    "        mm_por_pixel = fila['mm_por_pixel']\n",
    "\n",
    "        puntos_marcados = []\n",
    "        for i in range(1, 16):\n",
    "            coord_x = f'coordenada_x_punto {i}'\n",
    "            coord_y = f'coordenada_y_punto {i}'\n",
    "\n",
    "            if coord_x in fila and coord_y in fila:\n",
    "                punto_marcado = (int(fila[coord_x]), int(fila[coord_y]))\n",
    "                puntos_marcados.append(punto_marcado)\n",
    "            else:\n",
    "                print(f\"No se encontraron coordenadas para el punto {i}\")\n",
    "\n",
    "        if puntos_marcados:\n",
    "            matriz_grilla = procesar_imagen_individual(ruta_imagen, punto_referencia, puntos_marcados, mm_por_pixel, directorio_salida)\n",
    "            if matriz_grilla is not None:\n",
    "                matrices.append({\n",
    "                    'imagen': nombre_imagen,\n",
    "                    'matriz': matriz_grilla\n",
    "                })\n",
    "\n",
    "    # Guardar las matrices en un archivo CSV\n",
    "    df_matrices = pd.DataFrame(matrices)\n",
    "    df_matrices.to_csv(ruta_salida_matriz, index=False)\n",
    "\n",
    "    print(\"\\nProcesamiento completado.\")\n",
    "    print(f\"Directorio de salida: {os.path.abspath(directorio_salida)}\")\n",
    "    print(f\"Matriz guardada en: {os.path.abspath(ruta_salida_matriz)}\")\n"
   ],
   "id": "b8e22315bbd64597",
   "outputs": [],
   "execution_count": null
  },
  {
   "metadata": {},
   "cell_type": "code",
   "outputs": [],
   "execution_count": null,
   "source": [
    "\n",
    "ruta_conjunto_datos = '../datos/df.csv'\n",
    "directorio_salida = '../imagenes/procesadas/'\n",
    "ruta_salida_matriz = '../datos/matriz_grilla_final.csv'\n",
    "procesar_conjunto_datos(ruta_conjunto_datos, directorio_salida, ruta_salida_matriz)"
   ],
   "id": "d647c20366a5c2ad"
  }
 ],
 "metadata": {
  "kernelspec": {
   "display_name": "Python 3",
   "language": "python",
   "name": "python3"
  },
  "language_info": {
   "codemirror_mode": {
    "name": "ipython",
    "version": 2
   },
   "file_extension": ".py",
   "mimetype": "text/x-python",
   "name": "python",
   "nbconvert_exporter": "python",
   "pygments_lexer": "ipython2",
   "version": "2.7.6"
  }
 },
 "nbformat": 4,
 "nbformat_minor": 5
}
