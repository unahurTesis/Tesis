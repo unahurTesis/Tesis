{
 "cells": [
  {
   "metadata": {},
   "cell_type": "markdown",
   "source": "### Importar librerías",
   "id": "20a67d2e13afb758"
  },
  {
   "cell_type": "code",
   "id": "initial_id",
   "metadata": {
    "collapsed": true
   },
   "source": [
    "import pandas as pd\n",
    "import numpy as np\n",
    "\n",
    "import ast\n",
    "\n",
    "from matplotlib import pyplot as plt\n",
    "\n",
    "from sklearn.preprocessing import MinMaxScaler\n",
    "from sklearn.model_selection import train_test_split\n",
    "\n",
    "from tensorflow.keras.models import Sequential\n",
    "from tensorflow.keras.layers import Dense\n",
    "from tensorflow.keras.optimizers import Adam\n"
   ],
   "outputs": [],
   "execution_count": null
  },
  {
   "metadata": {},
   "cell_type": "markdown",
   "source": "### Cargar y preparar los datos",
   "id": "69b6d58114f38c4b"
  },
  {
   "metadata": {},
   "cell_type": "code",
   "source": [
    "# Cargamos el dataset\n",
    "df = pd.read_csv('../datos/df_final.csv')\n",
    "df.head()"
   ],
   "id": "9ced71169672a91b",
   "outputs": [],
   "execution_count": null
  },
  {
   "metadata": {},
   "cell_type": "markdown",
   "source": "### Preprocesamiento de los datos",
   "id": "b06f66f818bcf2ce"
  },
  {
   "metadata": {
    "ExecuteTime": {
     "end_time": "2024-08-14T14:47:57.988392Z",
     "start_time": "2024-08-14T14:47:57.963478Z"
    }
   },
   "cell_type": "code",
   "source": [
    "# Separamos las variables de entrada y salida\n",
    "columnas_entrada = ['vel alambre', 'flujo gas', 'peri voltaje', 'voltaje', 'corriente', 'ubicacion']\n",
    "\n",
    "# Conjunto de entrada\n",
    "X = df[columnas_entrada]\n",
    "print(X.shape)\n",
    "\n",
    "# Conjunto de salida\n",
    "y = df['matriz']\n",
    "print(y.dtypes)"
   ],
   "id": "386ad5562a07a76c",
   "outputs": [
    {
     "name": "stdout",
     "output_type": "stream",
     "text": [
      "(54, 6)\n",
      "object\n"
     ]
    }
   ],
   "execution_count": 30
  },
  {
   "metadata": {
    "ExecuteTime": {
     "end_time": "2024-08-14T14:55:04.967798Z",
     "start_time": "2024-08-14T14:55:04.945455Z"
    }
   },
   "cell_type": "code",
   "source": [
    "def clean_string(s):\n",
    "    # Reemplazar múltiples puntos por comas\n",
    "    s = re.sub(r'\\.\\.', ',', s)\n",
    "    # Quitar cualquier punto al final de la cadena\n",
    "    s = re.sub(r'\\.$', '', s)\n",
    "    # Reemplazar cualquier punto aislado por coma\n",
    "    s = s.replace('.', ',')\n",
    "    # Asegurarse de que los números están separados por comas\n",
    "    s = re.sub(r'(\\d),(\\d)', r'\\1,\\2', s)\n",
    "    return s\n",
    "\n",
    "# Aplicar la función de limpieza a todas las entradas de y\n",
    "y = y.apply(clean_string)"
   ],
   "id": "d85bcaea66ac766f",
   "outputs": [],
   "execution_count": 37
  },
  {
   "metadata": {
    "ExecuteTime": {
     "end_time": "2024-08-14T14:55:21.672765Z",
     "start_time": "2024-08-14T14:55:21.561873Z"
    }
   },
   "cell_type": "code",
   "source": [
    "def parse_matrix_string(s):\n",
    "    # Evaluar la cadena como una lista de listas\n",
    "    return np.array([list(map(int, row.split(','))) for row in re.findall(r'\\[(.*?)\\]', s)])\n",
    "\n",
    "y = y.apply(parse_matrix_string)"
   ],
   "id": "f4ea4f286ea3d17f",
   "outputs": [
    {
     "ename": "ValueError",
     "evalue": "invalid literal for int() with base 10: '[1'",
     "output_type": "error",
     "traceback": [
      "\u001B[1;31m---------------------------------------------------------------------------\u001B[0m",
      "\u001B[1;31mValueError\u001B[0m                                Traceback (most recent call last)",
      "Cell \u001B[1;32mIn[38], line 5\u001B[0m\n\u001B[0;32m      1\u001B[0m \u001B[38;5;28;01mdef\u001B[39;00m \u001B[38;5;21mparse_matrix_string\u001B[39m(s):\n\u001B[0;32m      2\u001B[0m     \u001B[38;5;66;03m# Evaluar la cadena como una lista de listas\u001B[39;00m\n\u001B[0;32m      3\u001B[0m     \u001B[38;5;28;01mreturn\u001B[39;00m np\u001B[38;5;241m.\u001B[39marray([\u001B[38;5;28mlist\u001B[39m(\u001B[38;5;28mmap\u001B[39m(\u001B[38;5;28mint\u001B[39m, row\u001B[38;5;241m.\u001B[39msplit(\u001B[38;5;124m'\u001B[39m\u001B[38;5;124m,\u001B[39m\u001B[38;5;124m'\u001B[39m))) \u001B[38;5;28;01mfor\u001B[39;00m row \u001B[38;5;129;01min\u001B[39;00m re\u001B[38;5;241m.\u001B[39mfindall(\u001B[38;5;124mr\u001B[39m\u001B[38;5;124m'\u001B[39m\u001B[38;5;124m\\\u001B[39m\u001B[38;5;124m[(.*?)\u001B[39m\u001B[38;5;124m\\\u001B[39m\u001B[38;5;124m]\u001B[39m\u001B[38;5;124m'\u001B[39m, s)])\n\u001B[1;32m----> 5\u001B[0m y \u001B[38;5;241m=\u001B[39m \u001B[43my\u001B[49m\u001B[38;5;241;43m.\u001B[39;49m\u001B[43mapply\u001B[49m\u001B[43m(\u001B[49m\u001B[43mparse_matrix_string\u001B[49m\u001B[43m)\u001B[49m\n",
      "File \u001B[1;32m~\\Documents\\Tesis\\Tesis\\.venv\\lib\\site-packages\\pandas\\core\\series.py:4630\u001B[0m, in \u001B[0;36mSeries.apply\u001B[1;34m(self, func, convert_dtype, args, **kwargs)\u001B[0m\n\u001B[0;32m   4520\u001B[0m \u001B[38;5;28;01mdef\u001B[39;00m \u001B[38;5;21mapply\u001B[39m(\n\u001B[0;32m   4521\u001B[0m     \u001B[38;5;28mself\u001B[39m,\n\u001B[0;32m   4522\u001B[0m     func: AggFuncType,\n\u001B[1;32m   (...)\u001B[0m\n\u001B[0;32m   4525\u001B[0m     \u001B[38;5;241m*\u001B[39m\u001B[38;5;241m*\u001B[39mkwargs,\n\u001B[0;32m   4526\u001B[0m ) \u001B[38;5;241m-\u001B[39m\u001B[38;5;241m>\u001B[39m DataFrame \u001B[38;5;241m|\u001B[39m Series:\n\u001B[0;32m   4527\u001B[0m \u001B[38;5;250m    \u001B[39m\u001B[38;5;124;03m\"\"\"\u001B[39;00m\n\u001B[0;32m   4528\u001B[0m \u001B[38;5;124;03m    Invoke function on values of Series.\u001B[39;00m\n\u001B[0;32m   4529\u001B[0m \n\u001B[1;32m   (...)\u001B[0m\n\u001B[0;32m   4628\u001B[0m \u001B[38;5;124;03m    dtype: float64\u001B[39;00m\n\u001B[0;32m   4629\u001B[0m \u001B[38;5;124;03m    \"\"\"\u001B[39;00m\n\u001B[1;32m-> 4630\u001B[0m     \u001B[38;5;28;01mreturn\u001B[39;00m \u001B[43mSeriesApply\u001B[49m\u001B[43m(\u001B[49m\u001B[38;5;28;43mself\u001B[39;49m\u001B[43m,\u001B[49m\u001B[43m \u001B[49m\u001B[43mfunc\u001B[49m\u001B[43m,\u001B[49m\u001B[43m \u001B[49m\u001B[43mconvert_dtype\u001B[49m\u001B[43m,\u001B[49m\u001B[43m \u001B[49m\u001B[43margs\u001B[49m\u001B[43m,\u001B[49m\u001B[43m \u001B[49m\u001B[43mkwargs\u001B[49m\u001B[43m)\u001B[49m\u001B[38;5;241;43m.\u001B[39;49m\u001B[43mapply\u001B[49m\u001B[43m(\u001B[49m\u001B[43m)\u001B[49m\n",
      "File \u001B[1;32m~\\Documents\\Tesis\\Tesis\\.venv\\lib\\site-packages\\pandas\\core\\apply.py:1025\u001B[0m, in \u001B[0;36mSeriesApply.apply\u001B[1;34m(self)\u001B[0m\n\u001B[0;32m   1022\u001B[0m     \u001B[38;5;28;01mreturn\u001B[39;00m \u001B[38;5;28mself\u001B[39m\u001B[38;5;241m.\u001B[39mapply_str()\n\u001B[0;32m   1024\u001B[0m \u001B[38;5;66;03m# self.f is Callable\u001B[39;00m\n\u001B[1;32m-> 1025\u001B[0m \u001B[38;5;28;01mreturn\u001B[39;00m \u001B[38;5;28;43mself\u001B[39;49m\u001B[38;5;241;43m.\u001B[39;49m\u001B[43mapply_standard\u001B[49m\u001B[43m(\u001B[49m\u001B[43m)\u001B[49m\n",
      "File \u001B[1;32m~\\Documents\\Tesis\\Tesis\\.venv\\lib\\site-packages\\pandas\\core\\apply.py:1076\u001B[0m, in \u001B[0;36mSeriesApply.apply_standard\u001B[1;34m(self)\u001B[0m\n\u001B[0;32m   1074\u001B[0m     \u001B[38;5;28;01melse\u001B[39;00m:\n\u001B[0;32m   1075\u001B[0m         values \u001B[38;5;241m=\u001B[39m obj\u001B[38;5;241m.\u001B[39mastype(\u001B[38;5;28mobject\u001B[39m)\u001B[38;5;241m.\u001B[39m_values\n\u001B[1;32m-> 1076\u001B[0m         mapped \u001B[38;5;241m=\u001B[39m \u001B[43mlib\u001B[49m\u001B[38;5;241;43m.\u001B[39;49m\u001B[43mmap_infer\u001B[49m\u001B[43m(\u001B[49m\n\u001B[0;32m   1077\u001B[0m \u001B[43m            \u001B[49m\u001B[43mvalues\u001B[49m\u001B[43m,\u001B[49m\n\u001B[0;32m   1078\u001B[0m \u001B[43m            \u001B[49m\u001B[43mf\u001B[49m\u001B[43m,\u001B[49m\n\u001B[0;32m   1079\u001B[0m \u001B[43m            \u001B[49m\u001B[43mconvert\u001B[49m\u001B[38;5;241;43m=\u001B[39;49m\u001B[38;5;28;43mself\u001B[39;49m\u001B[38;5;241;43m.\u001B[39;49m\u001B[43mconvert_dtype\u001B[49m\u001B[43m,\u001B[49m\n\u001B[0;32m   1080\u001B[0m \u001B[43m        \u001B[49m\u001B[43m)\u001B[49m\n\u001B[0;32m   1082\u001B[0m \u001B[38;5;28;01mif\u001B[39;00m \u001B[38;5;28mlen\u001B[39m(mapped) \u001B[38;5;129;01mand\u001B[39;00m \u001B[38;5;28misinstance\u001B[39m(mapped[\u001B[38;5;241m0\u001B[39m], ABCSeries):\n\u001B[0;32m   1083\u001B[0m     \u001B[38;5;66;03m# GH#43986 Need to do list(mapped) in order to get treated as nested\u001B[39;00m\n\u001B[0;32m   1084\u001B[0m     \u001B[38;5;66;03m#  See also GH#25959 regarding EA support\u001B[39;00m\n\u001B[0;32m   1085\u001B[0m     \u001B[38;5;28;01mreturn\u001B[39;00m obj\u001B[38;5;241m.\u001B[39m_constructor_expanddim(\u001B[38;5;28mlist\u001B[39m(mapped), index\u001B[38;5;241m=\u001B[39mobj\u001B[38;5;241m.\u001B[39mindex)\n",
      "File \u001B[1;32m~\\Documents\\Tesis\\Tesis\\.venv\\lib\\site-packages\\pandas\\_libs\\lib.pyx:2834\u001B[0m, in \u001B[0;36mpandas._libs.lib.map_infer\u001B[1;34m()\u001B[0m\n",
      "Cell \u001B[1;32mIn[38], line 3\u001B[0m, in \u001B[0;36mparse_matrix_string\u001B[1;34m(s)\u001B[0m\n\u001B[0;32m      1\u001B[0m \u001B[38;5;28;01mdef\u001B[39;00m \u001B[38;5;21mparse_matrix_string\u001B[39m(s):\n\u001B[0;32m      2\u001B[0m     \u001B[38;5;66;03m# Evaluar la cadena como una lista de listas\u001B[39;00m\n\u001B[1;32m----> 3\u001B[0m     \u001B[38;5;28;01mreturn\u001B[39;00m np\u001B[38;5;241m.\u001B[39marray([\u001B[38;5;28mlist\u001B[39m(\u001B[38;5;28mmap\u001B[39m(\u001B[38;5;28mint\u001B[39m, row\u001B[38;5;241m.\u001B[39msplit(\u001B[38;5;124m'\u001B[39m\u001B[38;5;124m,\u001B[39m\u001B[38;5;124m'\u001B[39m))) \u001B[38;5;28;01mfor\u001B[39;00m row \u001B[38;5;129;01min\u001B[39;00m re\u001B[38;5;241m.\u001B[39mfindall(\u001B[38;5;124mr\u001B[39m\u001B[38;5;124m'\u001B[39m\u001B[38;5;124m\\\u001B[39m\u001B[38;5;124m[(.*?)\u001B[39m\u001B[38;5;124m\\\u001B[39m\u001B[38;5;124m]\u001B[39m\u001B[38;5;124m'\u001B[39m, s)])\n",
      "Cell \u001B[1;32mIn[38], line 3\u001B[0m, in \u001B[0;36m<listcomp>\u001B[1;34m(.0)\u001B[0m\n\u001B[0;32m      1\u001B[0m \u001B[38;5;28;01mdef\u001B[39;00m \u001B[38;5;21mparse_matrix_string\u001B[39m(s):\n\u001B[0;32m      2\u001B[0m     \u001B[38;5;66;03m# Evaluar la cadena como una lista de listas\u001B[39;00m\n\u001B[1;32m----> 3\u001B[0m     \u001B[38;5;28;01mreturn\u001B[39;00m np\u001B[38;5;241m.\u001B[39marray([\u001B[38;5;28;43mlist\u001B[39;49m\u001B[43m(\u001B[49m\u001B[38;5;28;43mmap\u001B[39;49m\u001B[43m(\u001B[49m\u001B[38;5;28;43mint\u001B[39;49m\u001B[43m,\u001B[49m\u001B[43m \u001B[49m\u001B[43mrow\u001B[49m\u001B[38;5;241;43m.\u001B[39;49m\u001B[43msplit\u001B[49m\u001B[43m(\u001B[49m\u001B[38;5;124;43m'\u001B[39;49m\u001B[38;5;124;43m,\u001B[39;49m\u001B[38;5;124;43m'\u001B[39;49m\u001B[43m)\u001B[49m\u001B[43m)\u001B[49m\u001B[43m)\u001B[49m \u001B[38;5;28;01mfor\u001B[39;00m row \u001B[38;5;129;01min\u001B[39;00m re\u001B[38;5;241m.\u001B[39mfindall(\u001B[38;5;124mr\u001B[39m\u001B[38;5;124m'\u001B[39m\u001B[38;5;124m\\\u001B[39m\u001B[38;5;124m[(.*?)\u001B[39m\u001B[38;5;124m\\\u001B[39m\u001B[38;5;124m]\u001B[39m\u001B[38;5;124m'\u001B[39m, s)])\n",
      "\u001B[1;31mValueError\u001B[0m: invalid literal for int() with base 10: '[1'"
     ]
    }
   ],
   "execution_count": 38
  },
  {
   "metadata": {
    "ExecuteTime": {
     "end_time": "2024-08-14T14:50:14.191566Z",
     "start_time": "2024-08-14T14:50:14.165186Z"
    }
   },
   "cell_type": "code",
   "source": [
    "# Conjunto de entrada\n",
    "print('Conjunto de entrada')\n",
    "print(X.head())\n",
    "\n",
    "# Salto de linea\n",
    "print('\\n')\n",
    "\n",
    "# Conjunto de salida\n",
    "print('Conjunto de salida')\n",
    "print(\"Forma de y:\", y.shape)\n",
    "print(y.shape)\n",
    "print(y[0])\n",
    "print(y.dtypes)\n",
    "print(type(df['matriz'].iloc[0]))"
   ],
   "id": "85f51ea352b6883d",
   "outputs": [
    {
     "name": "stdout",
     "output_type": "stream",
     "text": [
      "Conjunto de entrada\n",
      "   vel alambre  flujo gas  peri voltaje  voltaje  corriente  ubicacion\n",
      "0          5.0        5.0           5.0      5.0        5.0          1\n",
      "1          4.0        4.0           4.0      4.0        4.0          1\n",
      "2          4.0        4.0           4.0      4.0        4.0          1\n",
      "3          2.0        2.0           2.0      2.0        2.0          1\n",
      "4          3.0        3.0           3.0      3.0        3.0          1\n",
      "\n",
      "\n",
      "Conjunto de salida\n",
      "Forma de y: (54,)\n",
      "(54,)\n",
      "[[1. 0. 0. 0. 0. 0. 0. 1.]\n",
      " [1. 0. 0. 0. 0. 0. 1. 1.]\n",
      " [1. 1. 0. 0. 0. 0. 1. 0.]\n",
      " [0. 1. 1. 1. 1. 1. 0. 0.]\n",
      " [0. 0. 0. 0. 0. 0. 0. 0.]]\n",
      "object\n",
      "<class 'str'>\n"
     ]
    }
   ],
   "execution_count": 34
  },
  {
   "metadata": {},
   "cell_type": "markdown",
   "source": "### Dividir los datos en conjuntos de entrenamiento y prueba",
   "id": "151d993c55feddec"
  },
  {
   "metadata": {},
   "cell_type": "code",
   "source": [
    "# Dividir los datos\n",
    "X_train, X_test, y_train, y_test = train_test_split(X, y, test_size=0.2, random_state=42)"
   ],
   "id": "48f974953d20109e",
   "outputs": [],
   "execution_count": null
  },
  {
   "metadata": {},
   "cell_type": "code",
   "source": [
    "# Imprimir las formas\n",
    "print(\"Forma de X_train:\", X_train.shape)\n",
    "print(\"Forma de X_test:\", X_test.shape)\n",
    "print(\"Forma de y_train:\", y_train.shape)\n",
    "print(\"Forma de y_test:\", y_test.shape)"
   ],
   "id": "788b447af04cdf46",
   "outputs": [],
   "execution_count": null
  },
  {
   "metadata": {},
   "cell_type": "markdown",
   "source": "### Crear el modelo",
   "id": "6d5ee8d42938b330"
  },
  {
   "metadata": {},
   "cell_type": "code",
   "source": [
    "# Número de características\n",
    "num_features = X_train.shape[1]\n",
    "\n",
    "funciones_activacion = ['relu', 'sigmoid', 'tanh']\n",
    "activation_hidden_layer = funciones_activacion[2]  # Capas ocultas\n",
    "activation_output_layer = funciones_activacion[1]  # Capa de salida\n",
    "\n",
    "# Crear el modelo\n",
    "model = Sequential([\n",
    "    Dense(8, activation=activation_hidden_layer, input_shape=(num_features,)),\n",
    "    Dense(16, activation=activation_hidden_layer),\n",
    "    Dense(32, activation=activation_hidden_layer),\n",
    "    Dense(y.shape[0], activation=activation_output_layer)\n",
    "])"
   ],
   "id": "5b1dc40c4b646f24",
   "outputs": [],
   "execution_count": null
  },
  {
   "metadata": {},
   "cell_type": "code",
   "source": "print(y.shape[0])",
   "id": "35726fe6edef6543",
   "outputs": [],
   "execution_count": null
  },
  {
   "metadata": {},
   "cell_type": "code",
   "source": [
    "# Compilar el modelo\n",
    "\n",
    "# Crear el optimizador con una tasa de aprendizaje ajustada\n",
    "optimizer = Adam(learning_rate=0.00001)\n",
    "\n",
    "model.compile(optimizer=optimizer, loss='mean_squared_error', metrics=['mean_absolute_error'])"
   ],
   "id": "a0b3267dfca5432c",
   "outputs": [],
   "execution_count": null
  },
  {
   "metadata": {},
   "cell_type": "markdown",
   "source": "### Entrenar el modelo",
   "id": "cd40eb958403c44f"
  },
  {
   "metadata": {},
   "cell_type": "code",
   "source": [
    "# Entrenar el modelo\n",
    "history = model.fit(X_train, y_train, epochs=10000, verbose=2)"
   ],
   "id": "f550cac91299854c",
   "outputs": [],
   "execution_count": null
  },
  {
   "metadata": {},
   "cell_type": "markdown",
   "source": "### Evaluar el modelo",
   "id": "ad0a9ab4820f0cb9"
  },
  {
   "metadata": {},
   "cell_type": "code",
   "source": [
    "# Evaluar el modelo en el conjunto de datos de prueba\n",
    "loss, mae = model.evaluate(X_train, y_train)\n",
    "print(f'Loss (MSE): {loss},\\n MAE: {mae}')"
   ],
   "id": "2c4a48453fd4f5ab",
   "outputs": [],
   "execution_count": null
  },
  {
   "metadata": {},
   "cell_type": "markdown",
   "source": "### Visualizar del entrenamiento",
   "id": "6f561e1cda1fa6ab"
  },
  {
   "metadata": {},
   "cell_type": "code",
   "source": [
    "# Obtener el historial de pérdida y métricas\n",
    "loss = history.history['loss']\n",
    "mae = history.history['mean_absolute_error']"
   ],
   "id": "59c589b0c6778055",
   "outputs": [],
   "execution_count": null
  },
  {
   "metadata": {},
   "cell_type": "code",
   "source": [
    "# Crear gráficos\n",
    "plt.figure(figsize=(12, 5))\n",
    "\n",
    "# Pérdida\n",
    "plt.subplot(1, 2, 1)\n",
    "plt.plot(loss, label='Training Loss')\n",
    "plt.title('Loss')\n",
    "plt.xlabel('Epoch')\n",
    "plt.ylabel('Mean Squared Error (MSE)')\n",
    "plt.legend()\n",
    "\n",
    "plt.subplot(1, 2, 2)\n",
    "plt.plot(mae, label='Training MAE')\n",
    "plt.title('Mean Absolute Error (MAE)')\n",
    "plt.xlabel('Epoch')\n",
    "plt.ylabel('Mean Absolute Error')\n",
    "plt.legend()\n",
    "\n",
    "# Mostrar los gráficos\n",
    "plt.tight_layout()  # Ajusta el espacio entre subplots\n",
    "plt.show()"
   ],
   "id": "80a06b7b6fec8802",
   "outputs": [],
   "execution_count": null
  },
  {
   "metadata": {},
   "cell_type": "markdown",
   "source": "### Predicciones",
   "id": "8c3d223a949c4eed"
  },
  {
   "metadata": {},
   "cell_type": "code",
   "source": [
    "index = 2\n",
    "X_ejemplo = X_test[index:index+1]\n",
    "\n",
    "# Realizar la predicción\n",
    "y_pred = model.predict(X_ejemplo)\n",
    "\n",
    "umbral = 0.5\n",
    "\n",
    "prediccion_binaria = (y_pred >= umbral).astype(int)\n",
    "valor_real = y_test[index]\n",
    "\n",
    "# Imprimir la predicción y el valor real\n",
    "print(\"Predicción:\", prediccion_binaria)\n",
    "print(\"Valor real:\", valor_real)\n",
    "\n",
    "# Si el valor de salida es una matriz 2D, imprimir las formas para confirmar\n",
    "print(\"Forma de la predicción:\", prediccion_binaria.shape)\n",
    "print(\"Forma del valor real:\", valor_real.shape)"
   ],
   "id": "21034855ffc20a78",
   "outputs": [],
   "execution_count": null
  },
  {
   "metadata": {},
   "cell_type": "code",
   "source": [
    "table_data = np.vstack([valor_real, prediccion_binaria.flatten()]).T\n",
    "\n",
    "col_labels = ['Valor Real', 'Predicción Binaria']\n",
    "\n",
    "fig, ax = plt.subplots(figsize=(10, len(valor_real) * 0.5))  # Ajustar el tamaño de la figura según la cantidad de datos\n",
    "ax.axis('tight')\n",
    "ax.axis('off')\n",
    "table = ax.table(cellText=table_data, colLabels=col_labels, cellLoc='center', loc='center')\n",
    "\n",
    "# Ajustar el tamaño de la fuente\n",
    "table.auto_set_font_size(False)\n",
    "table.set_fontsize(12)\n",
    "\n",
    "# Ajustar el tamaño de las columnas\n",
    "table.auto_set_column_width(col_labels)\n",
    "\n",
    "# Agregar bordes a las celdas\n",
    "for key, cell in table._cells.items():\n",
    "    cell.set_edgecolor('black')\n",
    "    cell.set_linewidth(1.5)\n",
    "\n",
    "# Agregar color de fondo a los encabezados\n",
    "for (i, label) in enumerate(col_labels):\n",
    "    cell = table[(0, i)]\n",
    "    cell.set_text_props(weight='bold', color='white')\n",
    "    cell.set_facecolor('#40466e')\n",
    "\n",
    "# Ajustar el espaciado de las celdas\n",
    "for key, cell in table._cells.items():\n",
    "    cell.set_fontsize(12)\n",
    "    cell.set_edgecolor('black')\n",
    "    cell.set_linewidth(1.5)\n",
    "\n",
    "# Mostrar la tabla\n",
    "plt.show()"
   ],
   "id": "bcdae940dcf9305e",
   "outputs": [],
   "execution_count": null
  },
  {
   "metadata": {},
   "cell_type": "code",
   "source": "",
   "id": "5f03925d98df2a51",
   "outputs": [],
   "execution_count": null
  },
  {
   "metadata": {},
   "cell_type": "code",
   "source": "",
   "id": "86e2e67f23d490d3",
   "outputs": [],
   "execution_count": null
  }
 ],
 "metadata": {
  "kernelspec": {
   "display_name": "Python 3",
   "language": "python",
   "name": "python3"
  },
  "language_info": {
   "codemirror_mode": {
    "name": "ipython",
    "version": 2
   },
   "file_extension": ".py",
   "mimetype": "text/x-python",
   "name": "python",
   "nbconvert_exporter": "python",
   "pygments_lexer": "ipython2",
   "version": "2.7.6"
  }
 },
 "nbformat": 4,
 "nbformat_minor": 5
}
