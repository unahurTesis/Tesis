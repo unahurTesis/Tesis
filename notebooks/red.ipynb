{
 "cells": [
  {
   "metadata": {},
   "cell_type": "markdown",
   "source": "### Importar librerías",
   "id": "20a67d2e13afb758"
  },
  {
   "cell_type": "code",
   "id": "initial_id",
   "metadata": {
    "collapsed": true,
    "ExecuteTime": {
     "end_time": "2024-08-01T16:09:03.491231Z",
     "start_time": "2024-08-01T16:09:03.480741Z"
    }
   },
   "source": [
    "import pandas as pd\n",
    "import numpy as np\n",
    "\n",
    "import ast\n",
    "\n",
    "from matplotlib import pyplot as plt\n",
    "\n",
    "from sklearn.preprocessing import MinMaxScaler\n",
    "from sklearn.model_selection import train_test_split\n",
    "\n",
    "from tensorflow.keras.models import Sequential\n",
    "from tensorflow.keras.layers import Dense\n",
    "from tensorflow.keras.optimizers import Adam\n",
    "\n"
   ],
   "outputs": [],
   "execution_count": 176
  },
  {
   "metadata": {},
   "cell_type": "markdown",
   "source": "### Cargar y preparar los datos",
   "id": "69b6d58114f38c4b"
  },
  {
   "metadata": {
    "ExecuteTime": {
     "end_time": "2024-08-01T16:09:03.630889Z",
     "start_time": "2024-08-01T16:09:03.588857Z"
    }
   },
   "cell_type": "code",
   "source": [
    "# Cargamos el dataset\n",
    "df = pd.read_csv('../datos/df_.csv')\n",
    "df.head()"
   ],
   "id": "9ced71169672a91b",
   "outputs": [
    {
     "data": {
      "text/plain": [
       "                                  imagen  vel alambre  flujo gas  \\\n",
       "0  Cordon11_Seccion 1 horizontal C11.jpg          5.0        5.0   \n",
       "1  Cordon12_Seccion 1 horizontal C12.jpg          4.0        4.0   \n",
       "2  Cordon17_Seccion 1 horizontal C17.jpg          4.0        4.0   \n",
       "3    Cordon8_Seccion 1 horizontal C8.jpg          2.0        2.0   \n",
       "4    Cordon3_Seccion 1 horizontal C3.jpg          3.0        3.0   \n",
       "\n",
       "   peri voltaje  voltaje  corriente  ubicacion     pixeles  mm_por_pixel  \\\n",
       "0           5.0      5.0        5.0          1  196.002551     65.334184   \n",
       "1           4.0      4.0        4.0          1  197.002538     65.667513   \n",
       "2           4.0      4.0        4.0          1  176.002841     58.667614   \n",
       "3           2.0      2.0        2.0          1   95.005263     31.668421   \n",
       "4           3.0      3.0        3.0          1  128.003906     42.667969   \n",
       "\n",
       "   punto_referencia_x  ...  coordenada_y_punto 10  coordenada_x_punto 11  \\\n",
       "0                 442  ...                     66                    569   \n",
       "1                 428  ...                     31                    545   \n",
       "2                 401  ...                    146                    626   \n",
       "3                 359  ...                    105                    431   \n",
       "4                 460  ...                    134                    593   \n",
       "\n",
       "   coordenada_y_punto 11  coordenada_x_punto 12  coordenada_y_punto 12  \\\n",
       "0                    100                    615                    144   \n",
       "1                     58                    577                     83   \n",
       "2                    180                    636                    206   \n",
       "3                    116                    434                    127   \n",
       "4                    154                    600                    179   \n",
       "\n",
       "   coordenada_x_punto 13  coordenada_y_punto 13  coordenada_x_punto 14  \\\n",
       "0                    645                    197                    654   \n",
       "1                    609                    129                    625   \n",
       "2                    638                    236                    637   \n",
       "3                    440                    135                    441   \n",
       "4                    604                    201                    610   \n",
       "\n",
       "   coordenada_y_punto 14                                             matriz  \n",
       "0                    254  [[1, 0, 0, 0, 0, 0, 0, 1], [1, 0, 0, 0, 0, 0, ...  \n",
       "1                    182  [[1, 0, 0, 0, 0, 0, 1, 0], [1, 0, 0, 0, 0, 0, ...  \n",
       "2                    266  [[1, 0, 0, 0, 0, 0, 0, 0], [1, 0, 0, 0, 0, 0, ...  \n",
       "3                    144  [[0, 1, 0, 0, 0, 0, 1, 0], [0, 0, 1, 0, 0, 0, ...  \n",
       "4                    223  [[1, 0, 0, 0, 0, 0, 0, 1], [1, 0, 0, 0, 0, 0, ...  \n",
       "\n",
       "[5 rows x 42 columns]"
      ],
      "text/html": [
       "<div>\n",
       "<style scoped>\n",
       "    .dataframe tbody tr th:only-of-type {\n",
       "        vertical-align: middle;\n",
       "    }\n",
       "\n",
       "    .dataframe tbody tr th {\n",
       "        vertical-align: top;\n",
       "    }\n",
       "\n",
       "    .dataframe thead th {\n",
       "        text-align: right;\n",
       "    }\n",
       "</style>\n",
       "<table border=\"1\" class=\"dataframe\">\n",
       "  <thead>\n",
       "    <tr style=\"text-align: right;\">\n",
       "      <th></th>\n",
       "      <th>imagen</th>\n",
       "      <th>vel alambre</th>\n",
       "      <th>flujo gas</th>\n",
       "      <th>peri voltaje</th>\n",
       "      <th>voltaje</th>\n",
       "      <th>corriente</th>\n",
       "      <th>ubicacion</th>\n",
       "      <th>pixeles</th>\n",
       "      <th>mm_por_pixel</th>\n",
       "      <th>punto_referencia_x</th>\n",
       "      <th>...</th>\n",
       "      <th>coordenada_y_punto 10</th>\n",
       "      <th>coordenada_x_punto 11</th>\n",
       "      <th>coordenada_y_punto 11</th>\n",
       "      <th>coordenada_x_punto 12</th>\n",
       "      <th>coordenada_y_punto 12</th>\n",
       "      <th>coordenada_x_punto 13</th>\n",
       "      <th>coordenada_y_punto 13</th>\n",
       "      <th>coordenada_x_punto 14</th>\n",
       "      <th>coordenada_y_punto 14</th>\n",
       "      <th>matriz</th>\n",
       "    </tr>\n",
       "  </thead>\n",
       "  <tbody>\n",
       "    <tr>\n",
       "      <th>0</th>\n",
       "      <td>Cordon11_Seccion 1 horizontal C11.jpg</td>\n",
       "      <td>5.0</td>\n",
       "      <td>5.0</td>\n",
       "      <td>5.0</td>\n",
       "      <td>5.0</td>\n",
       "      <td>5.0</td>\n",
       "      <td>1</td>\n",
       "      <td>196.002551</td>\n",
       "      <td>65.334184</td>\n",
       "      <td>442</td>\n",
       "      <td>...</td>\n",
       "      <td>66</td>\n",
       "      <td>569</td>\n",
       "      <td>100</td>\n",
       "      <td>615</td>\n",
       "      <td>144</td>\n",
       "      <td>645</td>\n",
       "      <td>197</td>\n",
       "      <td>654</td>\n",
       "      <td>254</td>\n",
       "      <td>[[1, 0, 0, 0, 0, 0, 0, 1], [1, 0, 0, 0, 0, 0, ...</td>\n",
       "    </tr>\n",
       "    <tr>\n",
       "      <th>1</th>\n",
       "      <td>Cordon12_Seccion 1 horizontal C12.jpg</td>\n",
       "      <td>4.0</td>\n",
       "      <td>4.0</td>\n",
       "      <td>4.0</td>\n",
       "      <td>4.0</td>\n",
       "      <td>4.0</td>\n",
       "      <td>1</td>\n",
       "      <td>197.002538</td>\n",
       "      <td>65.667513</td>\n",
       "      <td>428</td>\n",
       "      <td>...</td>\n",
       "      <td>31</td>\n",
       "      <td>545</td>\n",
       "      <td>58</td>\n",
       "      <td>577</td>\n",
       "      <td>83</td>\n",
       "      <td>609</td>\n",
       "      <td>129</td>\n",
       "      <td>625</td>\n",
       "      <td>182</td>\n",
       "      <td>[[1, 0, 0, 0, 0, 0, 1, 0], [1, 0, 0, 0, 0, 0, ...</td>\n",
       "    </tr>\n",
       "    <tr>\n",
       "      <th>2</th>\n",
       "      <td>Cordon17_Seccion 1 horizontal C17.jpg</td>\n",
       "      <td>4.0</td>\n",
       "      <td>4.0</td>\n",
       "      <td>4.0</td>\n",
       "      <td>4.0</td>\n",
       "      <td>4.0</td>\n",
       "      <td>1</td>\n",
       "      <td>176.002841</td>\n",
       "      <td>58.667614</td>\n",
       "      <td>401</td>\n",
       "      <td>...</td>\n",
       "      <td>146</td>\n",
       "      <td>626</td>\n",
       "      <td>180</td>\n",
       "      <td>636</td>\n",
       "      <td>206</td>\n",
       "      <td>638</td>\n",
       "      <td>236</td>\n",
       "      <td>637</td>\n",
       "      <td>266</td>\n",
       "      <td>[[1, 0, 0, 0, 0, 0, 0, 0], [1, 0, 0, 0, 0, 0, ...</td>\n",
       "    </tr>\n",
       "    <tr>\n",
       "      <th>3</th>\n",
       "      <td>Cordon8_Seccion 1 horizontal C8.jpg</td>\n",
       "      <td>2.0</td>\n",
       "      <td>2.0</td>\n",
       "      <td>2.0</td>\n",
       "      <td>2.0</td>\n",
       "      <td>2.0</td>\n",
       "      <td>1</td>\n",
       "      <td>95.005263</td>\n",
       "      <td>31.668421</td>\n",
       "      <td>359</td>\n",
       "      <td>...</td>\n",
       "      <td>105</td>\n",
       "      <td>431</td>\n",
       "      <td>116</td>\n",
       "      <td>434</td>\n",
       "      <td>127</td>\n",
       "      <td>440</td>\n",
       "      <td>135</td>\n",
       "      <td>441</td>\n",
       "      <td>144</td>\n",
       "      <td>[[0, 1, 0, 0, 0, 0, 1, 0], [0, 0, 1, 0, 0, 0, ...</td>\n",
       "    </tr>\n",
       "    <tr>\n",
       "      <th>4</th>\n",
       "      <td>Cordon3_Seccion 1 horizontal C3.jpg</td>\n",
       "      <td>3.0</td>\n",
       "      <td>3.0</td>\n",
       "      <td>3.0</td>\n",
       "      <td>3.0</td>\n",
       "      <td>3.0</td>\n",
       "      <td>1</td>\n",
       "      <td>128.003906</td>\n",
       "      <td>42.667969</td>\n",
       "      <td>460</td>\n",
       "      <td>...</td>\n",
       "      <td>134</td>\n",
       "      <td>593</td>\n",
       "      <td>154</td>\n",
       "      <td>600</td>\n",
       "      <td>179</td>\n",
       "      <td>604</td>\n",
       "      <td>201</td>\n",
       "      <td>610</td>\n",
       "      <td>223</td>\n",
       "      <td>[[1, 0, 0, 0, 0, 0, 0, 1], [1, 0, 0, 0, 0, 0, ...</td>\n",
       "    </tr>\n",
       "  </tbody>\n",
       "</table>\n",
       "<p>5 rows × 42 columns</p>\n",
       "</div>"
      ]
     },
     "execution_count": 177,
     "metadata": {},
     "output_type": "execute_result"
    }
   ],
   "execution_count": 177
  },
  {
   "metadata": {},
   "cell_type": "markdown",
   "source": "### Preprocesamiento de los datos",
   "id": "b06f66f818bcf2ce"
  },
  {
   "metadata": {
    "ExecuteTime": {
     "end_time": "2024-08-01T16:36:17.089852Z",
     "start_time": "2024-08-01T16:36:17.005428Z"
    }
   },
   "cell_type": "code",
   "source": [
    "# Separamos las variables de entrada y salida\n",
    "columnas_entrada = ['vel alambre', 'flujo gas', 'peri voltaje', 'voltaje', 'corriente', 'ubicacion']\n",
    "\n",
    "# Conjunto de entrada\n",
    "X = df[columnas_entrada]\n",
    "\n",
    "# Conjunto de salida\n",
    "y = df['matriz']\n",
    "print(y[0].shape)"
   ],
   "id": "386ad5562a07a76c",
   "outputs": [
    {
     "ename": "AttributeError",
     "evalue": "'str' object has no attribute 'shape'",
     "output_type": "error",
     "traceback": [
      "\u001B[1;31m---------------------------------------------------------------------------\u001B[0m",
      "\u001B[1;31mAttributeError\u001B[0m                            Traceback (most recent call last)",
      "Cell \u001B[1;32mIn[201], line 9\u001B[0m\n\u001B[0;32m      7\u001B[0m \u001B[38;5;66;03m# Conjunto de salida\u001B[39;00m\n\u001B[0;32m      8\u001B[0m y \u001B[38;5;241m=\u001B[39m df[\u001B[38;5;124m'\u001B[39m\u001B[38;5;124mmatriz\u001B[39m\u001B[38;5;124m'\u001B[39m]\n\u001B[1;32m----> 9\u001B[0m \u001B[38;5;28mprint\u001B[39m(\u001B[43my\u001B[49m\u001B[43m[\u001B[49m\u001B[38;5;241;43m0\u001B[39;49m\u001B[43m]\u001B[49m\u001B[38;5;241;43m.\u001B[39;49m\u001B[43mshape\u001B[49m)\n",
      "\u001B[1;31mAttributeError\u001B[0m: 'str' object has no attribute 'shape'"
     ]
    }
   ],
   "execution_count": 201
  },
  {
   "metadata": {},
   "cell_type": "markdown",
   "source": "### Convertir las matrices de salida a un formato adecuado",
   "id": "795706a30d2a0e50"
  },
  {
   "metadata": {
    "ExecuteTime": {
     "end_time": "2024-08-01T16:49:20.291969Z",
     "start_time": "2024-08-01T16:49:20.265969Z"
    }
   },
   "cell_type": "code",
   "source": [
    "\n",
    "# Convertir cada cadena a una lista de listas numéricas\n",
    "y_cleaned = y.apply(ast.literal_eval)\n",
    "\n",
    "\n",
    "# Convertir cada matriz a un array de NumPy y aplanar\n",
    "y_processed = np.array([np.array(matrix).flatten() for matrix in y_cleaned])\n",
    "print(y_processed.shape)"
   ],
   "id": "fd86acffc2940e70",
   "outputs": [
    {
     "name": "stdout",
     "output_type": "stream",
     "text": [
      "(54, 48)\n"
     ]
    }
   ],
   "execution_count": 207
  },
  {
   "metadata": {
    "ExecuteTime": {
     "end_time": "2024-08-01T16:36:27.722926Z",
     "start_time": "2024-08-01T16:36:27.697925Z"
    }
   },
   "cell_type": "code",
   "source": [
    "# Convertir y_processed a tipo flotante\n",
    "y_processed = y_processed.astype(np.float32)\n",
    "\n",
    "# Verificar nuevamente la forma y los tipos de datos\n",
    "print('Forma de y_processed después de la conversión:', y_processed.shape)\n",
    "print('Tipos de datos de y_processed después de la conversión:', y_processed.dtype)"
   ],
   "id": "bb598e020009ef18",
   "outputs": [
    {
     "name": "stdout",
     "output_type": "stream",
     "text": [
      "Forma de y_processed después de la conversión: (54, 48)\n",
      "Tipos de datos de y_processed después de la conversión: float32\n"
     ]
    }
   ],
   "execution_count": 202
  },
  {
   "metadata": {
    "ExecuteTime": {
     "end_time": "2024-08-01T16:40:44.908033Z",
     "start_time": "2024-08-01T16:40:44.891964Z"
    }
   },
   "cell_type": "code",
   "source": [
    "# Conjunto de entrada\n",
    "print('Conjunto de entrada')\n",
    "print(X.head())\n",
    "\n",
    "# Salto de linea\n",
    "print('\\n')\n",
    "\n",
    "# Conjunto de salida\n",
    "print('Conjunto de salida')\n",
    "print(\"Forma de y:\", y.shape)\n",
    "print(y_processed[0].shape)"
   ],
   "id": "85f51ea352b6883d",
   "outputs": [
    {
     "name": "stdout",
     "output_type": "stream",
     "text": [
      "Conjunto de entrada\n",
      "   vel alambre  flujo gas  peri voltaje  voltaje  corriente  ubicacion\n",
      "0          5.0        5.0           5.0      5.0        5.0          1\n",
      "1          4.0        4.0           4.0      4.0        4.0          1\n",
      "2          4.0        4.0           4.0      4.0        4.0          1\n",
      "3          2.0        2.0           2.0      2.0        2.0          1\n",
      "4          3.0        3.0           3.0      3.0        3.0          1\n",
      "\n",
      "\n",
      "Conjunto de salida\n",
      "Forma de y: (54,)\n",
      "(48,)\n"
     ]
    }
   ],
   "execution_count": 205
  },
  {
   "metadata": {
    "ExecuteTime": {
     "end_time": "2024-08-01T16:09:03.723755Z",
     "start_time": "2024-08-01T16:09:03.704919Z"
    }
   },
   "cell_type": "code",
   "source": [
    "# Convertimos todos los valores a float32\n",
    "X = X.astype(np.float32)"
   ],
   "id": "a303ce2c884cc84a",
   "outputs": [],
   "execution_count": 182
  },
  {
   "metadata": {},
   "cell_type": "markdown",
   "source": "### Normalización de los datos",
   "id": "846cab84ab286d97"
  },
  {
   "metadata": {
    "ExecuteTime": {
     "end_time": "2024-08-01T16:09:03.801747Z",
     "start_time": "2024-08-01T16:09:03.778551Z"
    }
   },
   "cell_type": "code",
   "source": [
    "# Normalizar los datos de entrada\n",
    "scaler = MinMaxScaler(feature_range=(0, 1))\n",
    "X_scaled = scaler.fit_transform(X)"
   ],
   "id": "73b02d4d29bcd64b",
   "outputs": [],
   "execution_count": 183
  },
  {
   "metadata": {
    "ExecuteTime": {
     "end_time": "2024-08-01T16:09:03.895313Z",
     "start_time": "2024-08-01T16:09:03.880003Z"
    }
   },
   "cell_type": "code",
   "source": [
    "print(\"Datos originales:\")\n",
    "print(X[:2])\n",
    "print(\"\\nDatos escalados:\")\n",
    "print(X_scaled[:2])"
   ],
   "id": "59a39411b1b5d5a8",
   "outputs": [
    {
     "name": "stdout",
     "output_type": "stream",
     "text": [
      "Datos originales:\n",
      "   vel alambre  flujo gas  peri voltaje  voltaje  corriente  ubicacion\n",
      "0          5.0        5.0           5.0      5.0        5.0        1.0\n",
      "1          4.0        4.0           4.0      4.0        4.0        1.0\n",
      "\n",
      "Datos escalados:\n",
      "[[1.        1.        1.        1.        1.        0.       ]\n",
      " [0.6666667 0.6666667 0.6666667 0.6666667 0.6666667 0.       ]]\n"
     ]
    }
   ],
   "execution_count": 184
  },
  {
   "metadata": {},
   "cell_type": "markdown",
   "source": "### Dividir los datos en conjuntos de entrenamiento y prueba",
   "id": "151d993c55feddec"
  },
  {
   "metadata": {
    "ExecuteTime": {
     "end_time": "2024-08-01T16:09:04.049192Z",
     "start_time": "2024-08-01T16:09:04.036564Z"
    }
   },
   "cell_type": "code",
   "source": [
    "# Dividir los datos\n",
    "X_train, X_test, y_train, y_test = train_test_split(X_scaled, y_processed, test_size=0.2, random_state=42)"
   ],
   "id": "48f974953d20109e",
   "outputs": [],
   "execution_count": 185
  },
  {
   "metadata": {
    "ExecuteTime": {
     "end_time": "2024-08-01T16:09:04.094995Z",
     "start_time": "2024-08-01T16:09:04.081123Z"
    }
   },
   "cell_type": "code",
   "source": [
    "# Imprimir las formas\n",
    "print(\"Forma de X_train:\", X_train.shape)\n",
    "print(\"Forma de X_test:\", X_test.shape)\n",
    "print(\"Forma de y_train:\", y_train.shape)\n",
    "print(\"Forma de y_test:\", y_test.shape)"
   ],
   "id": "788b447af04cdf46",
   "outputs": [
    {
     "name": "stdout",
     "output_type": "stream",
     "text": [
      "Forma de X_train: (43, 6)\n",
      "Forma de X_test: (11, 6)\n",
      "Forma de y_train: (43, 48)\n",
      "Forma de y_test: (11, 48)\n"
     ]
    }
   ],
   "execution_count": 186
  },
  {
   "metadata": {},
   "cell_type": "markdown",
   "source": "### Crear el modelo",
   "id": "6d5ee8d42938b330"
  },
  {
   "metadata": {
    "ExecuteTime": {
     "end_time": "2024-08-01T16:33:11.671205Z",
     "start_time": "2024-08-01T16:33:10.817377Z"
    }
   },
   "cell_type": "code",
   "source": [
    "# Número de características\n",
    "num_features = X_train.shape[1]\n",
    "\n",
    "funciones_activacion = ['relu', 'sigmoid', 'tanh']\n",
    "activation_hidden_layer = funciones_activacion[0]  # Capas ocultas\n",
    "activation_output_layer = funciones_activacion[1]  # Capa de salida\n",
    "\n",
    "# Crear el modelo\n",
    "model = Sequential([\n",
    "    Dense(64, activation=activation_hidden_layer, input_shape=(num_features,)),\n",
    "    Dense(32, activation=activation_hidden_layer),\n",
    "    Dense(y_processed.shape[1], activation=activation_output_layer)\n",
    "])"
   ],
   "id": "5b1dc40c4b646f24",
   "outputs": [],
   "execution_count": 195
  },
  {
   "metadata": {
    "ExecuteTime": {
     "end_time": "2024-08-01T16:34:02.575753Z",
     "start_time": "2024-08-01T16:34:02.555222Z"
    }
   },
   "cell_type": "code",
   "source": "print(y_processed.shape[1])",
   "id": "35726fe6edef6543",
   "outputs": [
    {
     "name": "stdout",
     "output_type": "stream",
     "text": [
      "48\n"
     ]
    }
   ],
   "execution_count": 197
  },
  {
   "metadata": {
    "ExecuteTime": {
     "end_time": "2024-08-01T16:09:04.296030Z",
     "start_time": "2024-08-01T16:09:04.251306Z"
    }
   },
   "cell_type": "code",
   "source": [
    "# Compilar el modelo\n",
    "\n",
    "# Crear el optimizador con una tasa de aprendizaje ajustada\n",
    "optimizer = Adam(learning_rate=0.001)\n",
    "\n",
    "model.compile(optimizer=optimizer, loss='mean_squared_error', metrics=['mean_absolute_error'])"
   ],
   "id": "a0b3267dfca5432c",
   "outputs": [],
   "execution_count": 188
  },
  {
   "metadata": {},
   "cell_type": "markdown",
   "source": "### Entrenar el modelo",
   "id": "cd40eb958403c44f"
  },
  {
   "metadata": {
    "ExecuteTime": {
     "end_time": "2024-08-01T16:09:06.901899Z",
     "start_time": "2024-08-01T16:09:04.297015Z"
    }
   },
   "cell_type": "code",
   "source": [
    "# Entrenar el modelo\n",
    "history = model.fit(X_train, y_train, epochs=100, verbose=2)"
   ],
   "id": "f550cac91299854c",
   "outputs": [
    {
     "name": "stdout",
     "output_type": "stream",
     "text": [
      "Epoch 1/100\n",
      "2/2 - 1s - loss: 0.2545 - mean_absolute_error: 0.5033 - 1s/epoch - 562ms/step\n",
      "Epoch 2/100\n",
      "2/2 - 0s - loss: 0.2526 - mean_absolute_error: 0.5015 - 10ms/epoch - 5ms/step\n",
      "Epoch 3/100\n",
      "2/2 - 0s - loss: 0.2508 - mean_absolute_error: 0.4998 - 7ms/epoch - 3ms/step\n",
      "Epoch 4/100\n",
      "2/2 - 0s - loss: 0.2491 - mean_absolute_error: 0.4983 - 7ms/epoch - 3ms/step\n",
      "Epoch 5/100\n",
      "2/2 - 0s - loss: 0.2477 - mean_absolute_error: 0.4969 - 7ms/epoch - 4ms/step\n",
      "Epoch 6/100\n",
      "2/2 - 0s - loss: 0.2463 - mean_absolute_error: 0.4955 - 7ms/epoch - 4ms/step\n",
      "Epoch 7/100\n",
      "2/2 - 0s - loss: 0.2449 - mean_absolute_error: 0.4941 - 8ms/epoch - 4ms/step\n",
      "Epoch 8/100\n",
      "2/2 - 0s - loss: 0.2434 - mean_absolute_error: 0.4925 - 8ms/epoch - 4ms/step\n",
      "Epoch 9/100\n",
      "2/2 - 0s - loss: 0.2418 - mean_absolute_error: 0.4908 - 8ms/epoch - 4ms/step\n",
      "Epoch 10/100\n",
      "2/2 - 0s - loss: 0.2401 - mean_absolute_error: 0.4889 - 9ms/epoch - 5ms/step\n",
      "Epoch 11/100\n",
      "2/2 - 0s - loss: 0.2382 - mean_absolute_error: 0.4867 - 7ms/epoch - 4ms/step\n",
      "Epoch 12/100\n",
      "2/2 - 0s - loss: 0.2361 - mean_absolute_error: 0.4843 - 7ms/epoch - 4ms/step\n",
      "Epoch 13/100\n",
      "2/2 - 0s - loss: 0.2338 - mean_absolute_error: 0.4815 - 9ms/epoch - 5ms/step\n",
      "Epoch 14/100\n",
      "2/2 - 0s - loss: 0.2311 - mean_absolute_error: 0.4783 - 6ms/epoch - 3ms/step\n",
      "Epoch 15/100\n",
      "2/2 - 0s - loss: 0.2283 - mean_absolute_error: 0.4749 - 7ms/epoch - 4ms/step\n",
      "Epoch 16/100\n",
      "2/2 - 0s - loss: 0.2251 - mean_absolute_error: 0.4709 - 9ms/epoch - 4ms/step\n",
      "Epoch 17/100\n",
      "2/2 - 0s - loss: 0.2215 - mean_absolute_error: 0.4663 - 6ms/epoch - 3ms/step\n",
      "Epoch 18/100\n",
      "2/2 - 0s - loss: 0.2178 - mean_absolute_error: 0.4613 - 13ms/epoch - 7ms/step\n",
      "Epoch 19/100\n",
      "2/2 - 0s - loss: 0.2138 - mean_absolute_error: 0.4559 - 9ms/epoch - 5ms/step\n",
      "Epoch 20/100\n",
      "2/2 - 0s - loss: 0.2098 - mean_absolute_error: 0.4502 - 8ms/epoch - 4ms/step\n",
      "Epoch 21/100\n",
      "2/2 - 0s - loss: 0.2055 - mean_absolute_error: 0.4438 - 11ms/epoch - 6ms/step\n",
      "Epoch 22/100\n",
      "2/2 - 0s - loss: 0.2011 - mean_absolute_error: 0.4372 - 9ms/epoch - 5ms/step\n",
      "Epoch 23/100\n",
      "2/2 - 0s - loss: 0.1966 - mean_absolute_error: 0.4299 - 11ms/epoch - 5ms/step\n",
      "Epoch 24/100\n",
      "2/2 - 0s - loss: 0.1922 - mean_absolute_error: 0.4227 - 13ms/epoch - 7ms/step\n",
      "Epoch 25/100\n",
      "2/2 - 0s - loss: 0.1877 - mean_absolute_error: 0.4149 - 16ms/epoch - 8ms/step\n",
      "Epoch 26/100\n",
      "2/2 - 0s - loss: 0.1833 - mean_absolute_error: 0.4069 - 11ms/epoch - 5ms/step\n",
      "Epoch 27/100\n",
      "2/2 - 0s - loss: 0.1789 - mean_absolute_error: 0.3989 - 10ms/epoch - 5ms/step\n",
      "Epoch 28/100\n",
      "2/2 - 0s - loss: 0.1746 - mean_absolute_error: 0.3905 - 11ms/epoch - 6ms/step\n",
      "Epoch 29/100\n",
      "2/2 - 0s - loss: 0.1703 - mean_absolute_error: 0.3820 - 9ms/epoch - 5ms/step\n",
      "Epoch 30/100\n",
      "2/2 - 0s - loss: 0.1664 - mean_absolute_error: 0.3735 - 10ms/epoch - 5ms/step\n",
      "Epoch 31/100\n",
      "2/2 - 0s - loss: 0.1626 - mean_absolute_error: 0.3651 - 9ms/epoch - 4ms/step\n",
      "Epoch 32/100\n",
      "2/2 - 0s - loss: 0.1589 - mean_absolute_error: 0.3571 - 8ms/epoch - 4ms/step\n",
      "Epoch 33/100\n",
      "2/2 - 0s - loss: 0.1555 - mean_absolute_error: 0.3492 - 7ms/epoch - 4ms/step\n",
      "Epoch 34/100\n",
      "2/2 - 0s - loss: 0.1523 - mean_absolute_error: 0.3414 - 9ms/epoch - 5ms/step\n",
      "Epoch 35/100\n",
      "2/2 - 0s - loss: 0.1492 - mean_absolute_error: 0.3341 - 13ms/epoch - 6ms/step\n",
      "Epoch 36/100\n",
      "2/2 - 0s - loss: 0.1463 - mean_absolute_error: 0.3272 - 7ms/epoch - 4ms/step\n",
      "Epoch 37/100\n",
      "2/2 - 0s - loss: 0.1436 - mean_absolute_error: 0.3207 - 8ms/epoch - 4ms/step\n",
      "Epoch 38/100\n",
      "2/2 - 0s - loss: 0.1412 - mean_absolute_error: 0.3144 - 9ms/epoch - 5ms/step\n",
      "Epoch 39/100\n",
      "2/2 - 0s - loss: 0.1388 - mean_absolute_error: 0.3085 - 8ms/epoch - 4ms/step\n",
      "Epoch 40/100\n",
      "2/2 - 0s - loss: 0.1368 - mean_absolute_error: 0.3031 - 7ms/epoch - 4ms/step\n",
      "Epoch 41/100\n",
      "2/2 - 0s - loss: 0.1348 - mean_absolute_error: 0.2979 - 9ms/epoch - 5ms/step\n",
      "Epoch 42/100\n",
      "2/2 - 0s - loss: 0.1330 - mean_absolute_error: 0.2931 - 7ms/epoch - 4ms/step\n",
      "Epoch 43/100\n",
      "2/2 - 0s - loss: 0.1313 - mean_absolute_error: 0.2886 - 8ms/epoch - 4ms/step\n",
      "Epoch 44/100\n",
      "2/2 - 0s - loss: 0.1298 - mean_absolute_error: 0.2845 - 4ms/epoch - 2ms/step\n",
      "Epoch 45/100\n",
      "2/2 - 0s - loss: 0.1284 - mean_absolute_error: 0.2808 - 10ms/epoch - 5ms/step\n",
      "Epoch 46/100\n",
      "2/2 - 0s - loss: 0.1272 - mean_absolute_error: 0.2775 - 4ms/epoch - 2ms/step\n",
      "Epoch 47/100\n",
      "2/2 - 0s - loss: 0.1261 - mean_absolute_error: 0.2745 - 6ms/epoch - 3ms/step\n",
      "Epoch 48/100\n",
      "2/2 - 0s - loss: 0.1250 - mean_absolute_error: 0.2718 - 5ms/epoch - 2ms/step\n",
      "Epoch 49/100\n",
      "2/2 - 0s - loss: 0.1241 - mean_absolute_error: 0.2693 - 6ms/epoch - 3ms/step\n",
      "Epoch 50/100\n",
      "2/2 - 0s - loss: 0.1232 - mean_absolute_error: 0.2670 - 11ms/epoch - 5ms/step\n",
      "Epoch 51/100\n",
      "2/2 - 0s - loss: 0.1224 - mean_absolute_error: 0.2649 - 9ms/epoch - 5ms/step\n",
      "Epoch 52/100\n",
      "2/2 - 0s - loss: 0.1216 - mean_absolute_error: 0.2627 - 8ms/epoch - 4ms/step\n",
      "Epoch 53/100\n",
      "2/2 - 0s - loss: 0.1209 - mean_absolute_error: 0.2608 - 8ms/epoch - 4ms/step\n",
      "Epoch 54/100\n",
      "2/2 - 0s - loss: 0.1202 - mean_absolute_error: 0.2588 - 9ms/epoch - 4ms/step\n",
      "Epoch 55/100\n",
      "2/2 - 0s - loss: 0.1196 - mean_absolute_error: 0.2572 - 9ms/epoch - 5ms/step\n",
      "Epoch 56/100\n",
      "2/2 - 0s - loss: 0.1190 - mean_absolute_error: 0.2557 - 7ms/epoch - 3ms/step\n",
      "Epoch 57/100\n",
      "2/2 - 0s - loss: 0.1185 - mean_absolute_error: 0.2543 - 7ms/epoch - 4ms/step\n",
      "Epoch 58/100\n",
      "2/2 - 0s - loss: 0.1180 - mean_absolute_error: 0.2531 - 10ms/epoch - 5ms/step\n",
      "Epoch 59/100\n",
      "2/2 - 0s - loss: 0.1175 - mean_absolute_error: 0.2520 - 7ms/epoch - 4ms/step\n",
      "Epoch 60/100\n",
      "2/2 - 0s - loss: 0.1171 - mean_absolute_error: 0.2509 - 7ms/epoch - 4ms/step\n",
      "Epoch 61/100\n",
      "2/2 - 0s - loss: 0.1166 - mean_absolute_error: 0.2499 - 8ms/epoch - 4ms/step\n",
      "Epoch 62/100\n",
      "2/2 - 0s - loss: 0.1162 - mean_absolute_error: 0.2488 - 6ms/epoch - 3ms/step\n",
      "Epoch 63/100\n",
      "2/2 - 0s - loss: 0.1157 - mean_absolute_error: 0.2477 - 7ms/epoch - 4ms/step\n",
      "Epoch 64/100\n",
      "2/2 - 0s - loss: 0.1153 - mean_absolute_error: 0.2469 - 7ms/epoch - 4ms/step\n",
      "Epoch 65/100\n",
      "2/2 - 0s - loss: 0.1148 - mean_absolute_error: 0.2460 - 7ms/epoch - 4ms/step\n",
      "Epoch 66/100\n",
      "2/2 - 0s - loss: 0.1144 - mean_absolute_error: 0.2451 - 6ms/epoch - 3ms/step\n",
      "Epoch 67/100\n",
      "2/2 - 0s - loss: 0.1143 - mean_absolute_error: 0.2446 - 8ms/epoch - 4ms/step\n",
      "Epoch 68/100\n",
      "2/2 - 0s - loss: 0.1138 - mean_absolute_error: 0.2436 - 7ms/epoch - 4ms/step\n",
      "Epoch 69/100\n",
      "2/2 - 0s - loss: 0.1135 - mean_absolute_error: 0.2426 - 8ms/epoch - 4ms/step\n",
      "Epoch 70/100\n",
      "2/2 - 0s - loss: 0.1132 - mean_absolute_error: 0.2417 - 8ms/epoch - 4ms/step\n",
      "Epoch 71/100\n",
      "2/2 - 0s - loss: 0.1129 - mean_absolute_error: 0.2408 - 6ms/epoch - 3ms/step\n",
      "Epoch 72/100\n",
      "2/2 - 0s - loss: 0.1126 - mean_absolute_error: 0.2400 - 8ms/epoch - 4ms/step\n",
      "Epoch 73/100\n",
      "2/2 - 0s - loss: 0.1123 - mean_absolute_error: 0.2390 - 6ms/epoch - 3ms/step\n",
      "Epoch 74/100\n",
      "2/2 - 0s - loss: 0.1119 - mean_absolute_error: 0.2380 - 8ms/epoch - 4ms/step\n",
      "Epoch 75/100\n",
      "2/2 - 0s - loss: 0.1115 - mean_absolute_error: 0.2371 - 9ms/epoch - 4ms/step\n",
      "Epoch 76/100\n",
      "2/2 - 0s - loss: 0.1111 - mean_absolute_error: 0.2363 - 7ms/epoch - 3ms/step\n",
      "Epoch 77/100\n",
      "2/2 - 0s - loss: 0.1108 - mean_absolute_error: 0.2356 - 6ms/epoch - 3ms/step\n",
      "Epoch 78/100\n",
      "2/2 - 0s - loss: 0.1103 - mean_absolute_error: 0.2349 - 8ms/epoch - 4ms/step\n",
      "Epoch 79/100\n",
      "2/2 - 0s - loss: 0.1100 - mean_absolute_error: 0.2342 - 7ms/epoch - 3ms/step\n",
      "Epoch 80/100\n",
      "2/2 - 0s - loss: 0.1097 - mean_absolute_error: 0.2334 - 8ms/epoch - 4ms/step\n",
      "Epoch 81/100\n",
      "2/2 - 0s - loss: 0.1094 - mean_absolute_error: 0.2329 - 6ms/epoch - 3ms/step\n",
      "Epoch 82/100\n",
      "2/2 - 0s - loss: 0.1091 - mean_absolute_error: 0.2325 - 6ms/epoch - 3ms/step\n",
      "Epoch 83/100\n",
      "2/2 - 0s - loss: 0.1088 - mean_absolute_error: 0.2321 - 9ms/epoch - 5ms/step\n",
      "Epoch 84/100\n",
      "2/2 - 0s - loss: 0.1084 - mean_absolute_error: 0.2313 - 7ms/epoch - 3ms/step\n",
      "Epoch 85/100\n",
      "2/2 - 0s - loss: 0.1082 - mean_absolute_error: 0.2306 - 6ms/epoch - 3ms/step\n",
      "Epoch 86/100\n",
      "2/2 - 0s - loss: 0.1078 - mean_absolute_error: 0.2297 - 8ms/epoch - 4ms/step\n",
      "Epoch 87/100\n",
      "2/2 - 0s - loss: 0.1075 - mean_absolute_error: 0.2291 - 6ms/epoch - 3ms/step\n",
      "Epoch 88/100\n",
      "2/2 - 0s - loss: 0.1072 - mean_absolute_error: 0.2285 - 7ms/epoch - 3ms/step\n",
      "Epoch 89/100\n",
      "2/2 - 0s - loss: 0.1070 - mean_absolute_error: 0.2282 - 6ms/epoch - 3ms/step\n",
      "Epoch 90/100\n",
      "2/2 - 0s - loss: 0.1066 - mean_absolute_error: 0.2279 - 7ms/epoch - 3ms/step\n",
      "Epoch 91/100\n",
      "2/2 - 0s - loss: 0.1063 - mean_absolute_error: 0.2274 - 8ms/epoch - 4ms/step\n",
      "Epoch 92/100\n",
      "2/2 - 0s - loss: 0.1060 - mean_absolute_error: 0.2270 - 5ms/epoch - 3ms/step\n",
      "Epoch 93/100\n",
      "2/2 - 0s - loss: 0.1058 - mean_absolute_error: 0.2263 - 7ms/epoch - 3ms/step\n",
      "Epoch 94/100\n",
      "2/2 - 0s - loss: 0.1055 - mean_absolute_error: 0.2256 - 5ms/epoch - 2ms/step\n",
      "Epoch 95/100\n",
      "2/2 - 0s - loss: 0.1052 - mean_absolute_error: 0.2252 - 7ms/epoch - 3ms/step\n",
      "Epoch 96/100\n",
      "2/2 - 0s - loss: 0.1050 - mean_absolute_error: 0.2251 - 8ms/epoch - 4ms/step\n",
      "Epoch 97/100\n",
      "2/2 - 0s - loss: 0.1047 - mean_absolute_error: 0.2248 - 11ms/epoch - 6ms/step\n",
      "Epoch 98/100\n",
      "2/2 - 0s - loss: 0.1044 - mean_absolute_error: 0.2242 - 6ms/epoch - 3ms/step\n",
      "Epoch 99/100\n",
      "2/2 - 0s - loss: 0.1042 - mean_absolute_error: 0.2235 - 7ms/epoch - 3ms/step\n",
      "Epoch 100/100\n",
      "2/2 - 0s - loss: 0.1039 - mean_absolute_error: 0.2227 - 6ms/epoch - 3ms/step\n"
     ]
    }
   ],
   "execution_count": 189
  },
  {
   "metadata": {},
   "cell_type": "markdown",
   "source": "### Evaluar el modelo",
   "id": "ad0a9ab4820f0cb9"
  },
  {
   "metadata": {
    "ExecuteTime": {
     "end_time": "2024-08-01T16:09:07.134655Z",
     "start_time": "2024-08-01T16:09:06.904322Z"
    }
   },
   "cell_type": "code",
   "source": [
    "# Evaluar el modelo en el conjunto de datos de prueba\n",
    "loss, mae = model.evaluate(X_test, y_test)\n",
    "print(f'Loss (MSE): {loss},\\n MAE: {mae}')"
   ],
   "id": "2c4a48453fd4f5ab",
   "outputs": [
    {
     "name": "stdout",
     "output_type": "stream",
     "text": [
      "1/1 [==============================] - 0s 145ms/step - loss: 0.1124 - mean_absolute_error: 0.2348\n",
      "Loss (MSE): 0.11241216957569122,\n",
      " MAE: 0.23477983474731445\n"
     ]
    }
   ],
   "execution_count": 190
  },
  {
   "metadata": {},
   "cell_type": "markdown",
   "source": "### Visualizar del entrenamiento",
   "id": "6f561e1cda1fa6ab"
  },
  {
   "metadata": {
    "ExecuteTime": {
     "end_time": "2024-08-01T16:09:28.887264Z",
     "start_time": "2024-08-01T16:09:28.875033Z"
    }
   },
   "cell_type": "code",
   "source": [
    "# Obtener el historial de pérdida y métricas\n",
    "loss = history.history['loss']\n",
    "mae = history.history['mean_absolute_error']"
   ],
   "id": "59c589b0c6778055",
   "outputs": [],
   "execution_count": 193
  },
  {
   "metadata": {
    "ExecuteTime": {
     "end_time": "2024-08-01T16:09:30.017598Z",
     "start_time": "2024-08-01T16:09:29.541628Z"
    }
   },
   "cell_type": "code",
   "source": [
    "# Crear gráficos\n",
    "plt.figure(figsize=(12, 5))\n",
    "\n",
    "# Pérdida\n",
    "plt.subplot(1, 2, 1)\n",
    "plt.plot(loss, label='Training Loss')\n",
    "plt.title('Loss')\n",
    "plt.xlabel('Epoch')\n",
    "plt.ylabel('Mean Squared Error (MSE)')\n",
    "plt.legend()\n",
    "\n",
    "plt.subplot(1, 2, 2)\n",
    "plt.plot(mae, label='Training MAE')\n",
    "plt.title('Mean Absolute Error (MAE)')\n",
    "plt.xlabel('Epoch')\n",
    "plt.ylabel('Mean Absolute Error')\n",
    "plt.legend()\n",
    "\n",
    "# Mostrar los gráficos\n",
    "plt.tight_layout()  # Ajusta el espacio entre subplots\n",
    "plt.show()"
   ],
   "id": "80a06b7b6fec8802",
   "outputs": [
    {
     "data": {
      "text/plain": [
       "<Figure size 1200x500 with 2 Axes>"
      ],
      "image/png": "[encoded data removed]"
     },
     "metadata": {},
     "output_type": "display_data"
    }
   ],
   "execution_count": 194
  },
  {
   "metadata": {},
   "cell_type": "markdown",
   "source": "### Predicciones",
   "id": "8c3d223a949c4eed"
  },
  {
   "metadata": {
    "ExecuteTime": {
     "end_time": "2024-08-01T16:09:07.914579Z",
     "start_time": "2024-08-01T16:09:07.902184Z"
    }
   },
   "cell_type": "code",
   "source": "",
   "id": "21034855ffc20a78",
   "outputs": [],
   "execution_count": 192
  }
 ],
 "metadata": {
  "kernelspec": {
   "display_name": "Python 3",
   "language": "python",
   "name": "python3"
  },
  "language_info": {
   "codemirror_mode": {
    "name": "ipython",
    "version": 2
   },
   "file_extension": ".py",
   "mimetype": "text/x-python",
   "name": "python",
   "nbconvert_exporter": "python",
   "pygments_lexer": "ipython2",
   "version": "2.7.6"
  }
 },
 "nbformat": 4,
 "nbformat_minor": 5
}
