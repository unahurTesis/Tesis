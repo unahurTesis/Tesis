{
 "cells": [
  {
   "metadata": {
    "ExecuteTime": {
     "end_time": "2024-08-01T16:41:32.762886Z",
     "start_time": "2024-08-01T16:41:32.085732Z"
    }
   },
   "cell_type": "code",
   "source": [
    "import pandas as pd\n",
    "\n",
    "df_train = pd.read_csv('datos/eliminar/train.csv')\n",
    "df = pd.read_csv('datos/eliminar/df.csv')"
   ],
   "id": "57fd78f5a17ec866",
   "outputs": [],
   "execution_count": 2
  },
  {
   "metadata": {},
   "cell_type": "code",
   "source": "df_train",
   "id": "3d16abb50d3aa7d8",
   "outputs": [],
   "execution_count": null
  },
  {
   "metadata": {},
   "cell_type": "code",
   "source": "df_puntos = df_train.drop(columns=['distancia', 'vel alambre', 'voltaje', 'peri voltaje', 'flujo gas','corriente','ubicacion'])",
   "id": "29c1736385f90be2",
   "outputs": [],
   "execution_count": null
  },
  {
   "metadata": {},
   "cell_type": "code",
   "source": "df_puntos",
   "id": "8df92a43b09e1878",
   "outputs": [],
   "execution_count": null
  },
  {
   "metadata": {},
   "cell_type": "code",
   "source": [
    "# Merge de los puntos con los datos de entrenamiento\n",
    "df = pd.merge(df, df_puntos, on='imagen', how='left')"
   ],
   "id": "f622a230e37b14d5",
   "outputs": [],
   "execution_count": null
  },
  {
   "metadata": {},
   "cell_type": "code",
   "source": "df.to_csv('datos/df.csv', index=False)",
   "id": "65f611f9b8c85db5",
   "outputs": [],
   "execution_count": null
  },
  {
   "metadata": {
    "ExecuteTime": {
     "end_time": "2024-08-01T02:30:11.837859Z",
     "start_time": "2024-08-01T02:30:11.831970Z"
    }
   },
   "cell_type": "code",
   "source": [
    "# Concatenar datasets\n",
    "df_medio = pd.read_csv('datos/eliminar/matriz_grilla.csv')\n",
    "df_inicio = pd.read_csv('datos/eliminar/matriz_grilla_inicio.csv')\n",
    "df_final = pd.read_csv('datos/eliminar/matriz_grilla_final.csv')"
   ],
   "id": "756540a33ebf9935",
   "outputs": [],
   "execution_count": 23
  },
  {
   "metadata": {
    "ExecuteTime": {
     "end_time": "2024-08-01T02:30:22.644455Z",
     "start_time": "2024-08-01T02:30:22.640910Z"
    }
   },
   "cell_type": "code",
   "source": "df_salida = pd.concat([df_inicio, df_medio, df_final])",
   "id": "2cd8e0c5b6aef8dd",
   "outputs": [],
   "execution_count": 24
  },
  {
   "metadata": {
    "ExecuteTime": {
     "end_time": "2024-08-01T02:30:35.205612Z",
     "start_time": "2024-08-01T02:30:35.201054Z"
    }
   },
   "cell_type": "code",
   "source": [
    "# Guardar dataset final\n",
    "df_salida.to_csv('datos/df_salida.csv', index=False)"
   ],
   "id": "3b3279f7c1396c9c",
   "outputs": [],
   "execution_count": 25
  },
  {
   "metadata": {
    "ExecuteTime": {
     "end_time": "2024-08-01T14:03:00.915129Z",
     "start_time": "2024-08-01T14:03:00.876590Z"
    }
   },
   "cell_type": "code",
   "source": [
    "df = pd.read_csv('datos/df.csv')\n",
    "df_salida = pd.read_csv('datos/df_salida.csv')"
   ],
   "id": "4f988b250e503948",
   "outputs": [],
   "execution_count": 4
  },
  {
   "metadata": {
    "ExecuteTime": {
     "end_time": "2024-08-01T14:03:02.098220Z",
     "start_time": "2024-08-01T14:03:02.072399Z"
    }
   },
   "cell_type": "code",
   "source": [
    "# Mergear ambos dataset df y df_salida\n",
    "df_ = pd.merge(df, df_salida, on='imagen', how='left')\n"
   ],
   "id": "b20b8f444d39462e",
   "outputs": [],
   "execution_count": 5
  },
  {
   "metadata": {
    "ExecuteTime": {
     "end_time": "2024-08-01T14:03:36.502265Z",
     "start_time": "2024-08-01T14:03:36.479973Z"
    }
   },
   "cell_type": "code",
   "source": "df_.to_csv('datos/df_.csv', index=False)",
   "id": "b7097d64654215bc",
   "outputs": [],
   "execution_count": 7
  },
  {
   "metadata": {
    "ExecuteTime": {
     "end_time": "2024-08-01T16:41:36.981468Z",
     "start_time": "2024-08-01T16:41:36.961525Z"
    }
   },
   "cell_type": "code",
   "source": "df = pd.read_csv('datos/matriz_grilla_final.csv')",
   "id": "affff96e3716ee28",
   "outputs": [],
   "execution_count": 3
  },
  {
   "metadata": {
    "ExecuteTime": {
     "end_time": "2024-08-01T16:43:18.057601Z",
     "start_time": "2024-08-01T16:43:18.044595Z"
    }
   },
   "cell_type": "code",
   "source": "df.matriz.shape",
   "id": "3b6644d392341369",
   "outputs": [
    {
     "data": {
      "text/plain": [
       "(18,)"
      ]
     },
     "execution_count": 11,
     "metadata": {},
     "output_type": "execute_result"
    }
   ],
   "execution_count": 11
  },
  {
   "metadata": {
    "ExecuteTime": {
     "end_time": "2024-08-01T16:45:19.949546Z",
     "start_time": "2024-08-01T16:45:19.935548Z"
    }
   },
   "cell_type": "code",
   "source": "salida = df.to_numpy().tolist()",
   "id": "b413d11cad7ce792",
   "outputs": [],
   "execution_count": 14
  },
  {
   "metadata": {
    "ExecuteTime": {
     "end_time": "2024-08-01T16:46:41.915714Z",
     "start_time": "2024-08-01T16:46:41.909711Z"
    }
   },
   "cell_type": "code",
   "source": "len(salida[0][1])",
   "id": "2dd8f2557b2a9c39",
   "outputs": [
    {
     "data": {
      "text/plain": [
       "130"
      ]
     },
     "execution_count": 18,
     "metadata": {},
     "output_type": "execute_result"
    }
   ],
   "execution_count": 18
  },
  {
   "metadata": {
    "ExecuteTime": {
     "end_time": "2024-08-01T16:47:47.203411Z",
     "start_time": "2024-08-01T16:47:47.177411Z"
    }
   },
   "cell_type": "code",
   "source": "salida[0][1]",
   "id": "38e26cad0230fe4f",
   "outputs": [
    {
     "data": {
      "text/plain": [
       "'[[1, 0, 0, 0, 0, 0, 0, 1], [1, 0, 0, 0, 0, 0, 0, 1], [1, 0, 0, 0, 0, 0, 1, 0], [0, 1, 1, 1, 1, 1, 0, 0], [0, 0, 0, 0, 0, 0, 0, 0]]'"
      ]
     },
     "execution_count": 19,
     "metadata": {},
     "output_type": "execute_result"
    }
   ],
   "execution_count": 19
  },
  {
   "metadata": {},
   "cell_type": "code",
   "outputs": [],
   "execution_count": null,
   "source": "",
   "id": "dc0db160182cdba9"
  }
 ],
 "metadata": {
  "kernelspec": {
   "display_name": "Python 3",
   "language": "python",
   "name": "python3"
  },
  "language_info": {
   "codemirror_mode": {
    "name": "ipython",
    "version": 2
   },
   "file_extension": ".py",
   "mimetype": "text/x-python",
   "name": "python",
   "nbconvert_exporter": "python",
   "pygments_lexer": "ipython2",
   "version": "2.7.6"
  }
 },
 "nbformat": 4,
 "nbformat_minor": 5
}
