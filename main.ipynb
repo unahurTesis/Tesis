{
 "cells": [
  {
   "metadata": {},
   "cell_type": "code",
   "source": [
    "import pandas as pd\n",
    "\n",
    "df_train = pd.read_csv('datos/eliminar/train.csv')\n",
    "df = pd.read_csv('datos/eliminar/df.csv')"
   ],
   "id": "57fd78f5a17ec866",
   "outputs": [],
   "execution_count": null
  },
  {
   "metadata": {},
   "cell_type": "code",
   "source": "df_train",
   "id": "3d16abb50d3aa7d8",
   "outputs": [],
   "execution_count": null
  },
  {
   "metadata": {},
   "cell_type": "code",
   "source": "df_puntos = df_train.drop(columns=['distancia', 'vel alambre', 'voltaje', 'peri voltaje', 'flujo gas','corriente','ubicacion'])",
   "id": "29c1736385f90be2",
   "outputs": [],
   "execution_count": null
  },
  {
   "metadata": {},
   "cell_type": "code",
   "source": "df_puntos",
   "id": "8df92a43b09e1878",
   "outputs": [],
   "execution_count": null
  },
  {
   "metadata": {},
   "cell_type": "code",
   "source": [
    "# Merge de los puntos con los datos de entrenamiento\n",
    "df = pd.merge(df, df_puntos, on='imagen', how='left')"
   ],
   "id": "f622a230e37b14d5",
   "outputs": [],
   "execution_count": null
  },
  {
   "metadata": {},
   "cell_type": "code",
   "source": "df.to_csv('datos/df.csv', index=False)",
   "id": "65f611f9b8c85db5",
   "outputs": [],
   "execution_count": null
  },
  {
   "metadata": {
    "ExecuteTime": {
     "end_time": "2024-08-01T02:30:11.837859Z",
     "start_time": "2024-08-01T02:30:11.831970Z"
    }
   },
   "cell_type": "code",
   "source": [
    "# Concatenar datasets\n",
    "df_medio = pd.read_csv('datos/eliminar/matriz_grilla.csv')\n",
    "df_inicio = pd.read_csv('datos/eliminar/matriz_grilla_inicio.csv')\n",
    "df_final = pd.read_csv('datos/eliminar/matriz_grilla_final.csv')"
   ],
   "id": "756540a33ebf9935",
   "outputs": [],
   "execution_count": 23
  },
  {
   "metadata": {
    "ExecuteTime": {
     "end_time": "2024-08-01T02:30:22.644455Z",
     "start_time": "2024-08-01T02:30:22.640910Z"
    }
   },
   "cell_type": "code",
   "source": "df_salida = pd.concat([df_inicio, df_medio, df_final])",
   "id": "2cd8e0c5b6aef8dd",
   "outputs": [],
   "execution_count": 24
  },
  {
   "metadata": {
    "ExecuteTime": {
     "end_time": "2024-08-01T02:30:35.205612Z",
     "start_time": "2024-08-01T02:30:35.201054Z"
    }
   },
   "cell_type": "code",
   "source": [
    "# Guardar dataset final\n",
    "df_salida.to_csv('datos/df_salida.csv', index=False)"
   ],
   "id": "3b3279f7c1396c9c",
   "outputs": [],
   "execution_count": 25
  }
 ],
 "metadata": {
  "kernelspec": {
   "display_name": "Python 3",
   "language": "python",
   "name": "python3"
  },
  "language_info": {
   "codemirror_mode": {
    "name": "ipython",
    "version": 2
   },
   "file_extension": ".py",
   "mimetype": "text/x-python",
   "name": "python",
   "nbconvert_exporter": "python",
   "pygments_lexer": "ipython2",
   "version": "2.7.6"
  }
 },
 "nbformat": 4,
 "nbformat_minor": 5
}
